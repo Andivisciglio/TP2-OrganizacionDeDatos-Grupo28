{
 "cells": [
  {
   "cell_type": "code",
   "execution_count": 180,
   "metadata": {},
   "outputs": [],
   "source": [
    "import pandas as pd\n",
    "import random\n",
    "from sklearn.neighbors import KNeighborsClassifier"
   ]
  },
  {
   "cell_type": "code",
   "execution_count": 181,
   "metadata": {},
   "outputs": [],
   "source": [
    "#Hasta 15 de Abril (para entrenar)\n",
    "\n",
    "postulantes_edu_df = pd.read_csv('fiuba_1_postulantes_educacion_h15.csv')\n",
    "postulantes_gye_df = pd.read_csv('fiuba_2_postulantes_genero_y_edad_h15.csv')\n",
    "vistas_df = pd.read_csv('fiuba_3_vistas_h15.csv')\n",
    "postulaciones_df = pd.read_csv('fiuba_4_postulaciones_h15.csv')\n",
    "avisos_online_df = pd.read_csv('fiuba_5_avisos_online_h15.csv')\n",
    "avisos_detalle_df = pd.read_csv('fiuba_6_avisos_detalle_h15.csv')"
   ]
  },
  {
   "cell_type": "code",
   "execution_count": 182,
   "metadata": {},
   "outputs": [],
   "source": [
    "#Originales TP1 (para entrenar)\n",
    "\n",
    "postulantes_edu_df2 = pd.read_csv('fiuba_1_postulantes_educacion.csv')\n",
    "postulantes_gye_df2 = pd.read_csv('fiuba_2_postulantes_genero_y_edad.csv')\n",
    "vistas_df2 = pd.read_csv('fiuba_3_vistas.csv')\n",
    "postulaciones_df2 = pd.read_csv('fiuba_4_postulaciones.csv')\n",
    "avisos_online_df2 = pd.read_csv('fiuba_5_avisos_online.csv')\n",
    "avisos_detalle_df2 = pd.read_csv('fiuba_6_avisos_detalle.csv')"
   ]
  },
  {
   "cell_type": "code",
   "execution_count": 183,
   "metadata": {},
   "outputs": [],
   "source": [
    "#Realizo el Merge del tipo outer de los datos\n",
    "#Originales TP1 y Datos hasta 15 de abril\n",
    "\n",
    "postulantes_edu_df = postulantes_edu_df.merge(postulantes_edu_df2,how='outer')\n",
    "postulantes_gye_df = postulantes_gye_df.merge(postulantes_gye_df2,how='outer')\n",
    "vistas_df = vistas_df.merge(vistas_df2,how='outer')\n",
    "postulaciones_df = postulaciones_df.merge(postulaciones_df2,how='outer')\n",
    "avisos_online_df = avisos_online_df.merge(avisos_online_df2,how='outer')\n",
    "avisos_detalle_df = avisos_detalle_df.merge(avisos_detalle_df2,how='outer')"
   ]
  },
  {
   "cell_type": "code",
   "execution_count": 184,
   "metadata": {},
   "outputs": [],
   "source": [
    "#Desde 15 de abril (para entrenar)\n",
    "\n",
    "postulantes_edu_df2 = pd.read_csv('fiuba_1_postulantes_educacion_d15.csv')\n",
    "postulantes_gye_df2 = pd.read_csv('fiuba_2_postulantes_genero_y_edad_d15.csv')\n",
    "vistas_df2 = pd.read_csv('fiuba_3_vistas_d15.csv')\n",
    "avisos_detalle_df2 = pd.read_csv('fiuba_6_avisos_detalle_d15.csv')"
   ]
  },
  {
   "cell_type": "code",
   "execution_count": 185,
   "metadata": {},
   "outputs": [],
   "source": [
    "#Avisos detalle que faltaban\n",
    "avisos_detalle_missing = pd.read_csv('fiuba_6_avisos_detalle_missing_nivel_laboral.csv')"
   ]
  },
  {
   "cell_type": "code",
   "execution_count": 186,
   "metadata": {},
   "outputs": [],
   "source": [
    "#Mergeamos todo\n",
    "\n",
    "postulantes_edu_df = postulantes_edu_df.merge(postulantes_edu_df2,how='outer')\n",
    "postulantes_gye_df = postulantes_gye_df.merge(postulantes_gye_df2,how='outer')\n",
    "vistas_df = vistas_df.merge(vistas_df2,how='outer')\n",
    "avisos_detalle_df = avisos_detalle_df.merge(avisos_detalle_df2,how='outer')\n",
    "avisos_detalle_df = avisos_detalle_df.merge(avisos_detalle_missing,how='outer')"
   ]
  },
  {
   "cell_type": "markdown",
   "metadata": {},
   "source": [
    "# Libero Espacio de la Memoria"
   ]
  },
  {
   "cell_type": "code",
   "execution_count": 187,
   "metadata": {},
   "outputs": [],
   "source": [
    "postulantes_edu_df2 = 0\n",
    "postulantes_gye_df2 = 0\n",
    "vistas_df2 = 0\n",
    "avisos_detalle_df2 = 0"
   ]
  },
  {
   "cell_type": "markdown",
   "metadata": {},
   "source": [
    "# Filtrado de Postulantes con informacion completa"
   ]
  },
  {
   "cell_type": "code",
   "execution_count": 188,
   "metadata": {
    "scrolled": true
   },
   "outputs": [
    {
     "data": {
      "text/html": [
       "<div>\n",
       "<style scoped>\n",
       "    .dataframe tbody tr th:only-of-type {\n",
       "        vertical-align: middle;\n",
       "    }\n",
       "\n",
       "    .dataframe tbody tr th {\n",
       "        vertical-align: top;\n",
       "    }\n",
       "\n",
       "    .dataframe thead th {\n",
       "        text-align: right;\n",
       "    }\n",
       "</style>\n",
       "<table border=\"1\" class=\"dataframe\">\n",
       "  <thead>\n",
       "    <tr style=\"text-align: right;\">\n",
       "      <th></th>\n",
       "      <th>idpostulante</th>\n",
       "      <th>nombre</th>\n",
       "      <th>estado</th>\n",
       "    </tr>\n",
       "  </thead>\n",
       "  <tbody>\n",
       "    <tr>\n",
       "      <th>0</th>\n",
       "      <td>ZjlZ</td>\n",
       "      <td>Master</td>\n",
       "      <td>En Curso</td>\n",
       "    </tr>\n",
       "    <tr>\n",
       "      <th>1</th>\n",
       "      <td>NdJl</td>\n",
       "      <td>Posgrado</td>\n",
       "      <td>En Curso</td>\n",
       "    </tr>\n",
       "    <tr>\n",
       "      <th>2</th>\n",
       "      <td>5kNq</td>\n",
       "      <td>Otro</td>\n",
       "      <td>En Curso</td>\n",
       "    </tr>\n",
       "    <tr>\n",
       "      <th>3</th>\n",
       "      <td>8rYD</td>\n",
       "      <td>Master</td>\n",
       "      <td>En Curso</td>\n",
       "    </tr>\n",
       "    <tr>\n",
       "      <th>4</th>\n",
       "      <td>1Wvj</td>\n",
       "      <td>Universitario</td>\n",
       "      <td>En Curso</td>\n",
       "    </tr>\n",
       "  </tbody>\n",
       "</table>\n",
       "</div>"
      ],
      "text/plain": [
       "  idpostulante         nombre    estado\n",
       "0         ZjlZ         Master  En Curso\n",
       "1         NdJl       Posgrado  En Curso\n",
       "2         5kNq           Otro  En Curso\n",
       "3         8rYD         Master  En Curso\n",
       "4         1Wvj  Universitario  En Curso"
      ]
     },
     "execution_count": 188,
     "metadata": {},
     "output_type": "execute_result"
    }
   ],
   "source": [
    "postulantes_edu_df.head()"
   ]
  },
  {
   "cell_type": "code",
   "execution_count": 189,
   "metadata": {},
   "outputs": [
    {
     "data": {
      "text/html": [
       "<div>\n",
       "<style scoped>\n",
       "    .dataframe tbody tr th:only-of-type {\n",
       "        vertical-align: middle;\n",
       "    }\n",
       "\n",
       "    .dataframe tbody tr th {\n",
       "        vertical-align: top;\n",
       "    }\n",
       "\n",
       "    .dataframe thead th {\n",
       "        text-align: right;\n",
       "    }\n",
       "</style>\n",
       "<table border=\"1\" class=\"dataframe\">\n",
       "  <thead>\n",
       "    <tr style=\"text-align: right;\">\n",
       "      <th></th>\n",
       "      <th>idpostulante</th>\n",
       "      <th>fechanacimiento</th>\n",
       "      <th>sexo</th>\n",
       "    </tr>\n",
       "  </thead>\n",
       "  <tbody>\n",
       "    <tr>\n",
       "      <th>0</th>\n",
       "      <td>6MM</td>\n",
       "      <td>1985-01-01</td>\n",
       "      <td>MASC</td>\n",
       "    </tr>\n",
       "    <tr>\n",
       "      <th>1</th>\n",
       "      <td>Nzz</td>\n",
       "      <td>NaN</td>\n",
       "      <td>NO_DECLARA</td>\n",
       "    </tr>\n",
       "    <tr>\n",
       "      <th>2</th>\n",
       "      <td>ZX1</td>\n",
       "      <td>NaN</td>\n",
       "      <td>NO_DECLARA</td>\n",
       "    </tr>\n",
       "    <tr>\n",
       "      <th>3</th>\n",
       "      <td>Nq5</td>\n",
       "      <td>NaN</td>\n",
       "      <td>NO_DECLARA</td>\n",
       "    </tr>\n",
       "    <tr>\n",
       "      <th>4</th>\n",
       "      <td>ebE</td>\n",
       "      <td>1952-07-07</td>\n",
       "      <td>MASC</td>\n",
       "    </tr>\n",
       "  </tbody>\n",
       "</table>\n",
       "</div>"
      ],
      "text/plain": [
       "  idpostulante fechanacimiento        sexo\n",
       "0          6MM      1985-01-01        MASC\n",
       "1          Nzz             NaN  NO_DECLARA\n",
       "2          ZX1             NaN  NO_DECLARA\n",
       "3          Nq5             NaN  NO_DECLARA\n",
       "4          ebE      1952-07-07        MASC"
      ]
     },
     "execution_count": 189,
     "metadata": {},
     "output_type": "execute_result"
    }
   ],
   "source": [
    "postulantes_gye_df.head()"
   ]
  },
  {
   "cell_type": "code",
   "execution_count": 190,
   "metadata": {
    "scrolled": true
   },
   "outputs": [
    {
     "name": "stdout",
     "output_type": "stream",
     "text": [
      "(693641, 3)\n",
      "(505382, 3)\n"
     ]
    }
   ],
   "source": [
    "print(postulantes_edu_df.shape)\n",
    "print(postulantes_gye_df.shape)"
   ]
  },
  {
   "cell_type": "code",
   "execution_count": 191,
   "metadata": {},
   "outputs": [
    {
     "name": "stdout",
     "output_type": "stream",
     "text": [
      "(447909,)\n",
      "(504407,)\n"
     ]
    }
   ],
   "source": [
    "print(postulantes_edu_df.idpostulante.unique().shape)\n",
    "print(postulantes_gye_df.idpostulante.unique().shape)"
   ]
  },
  {
   "cell_type": "code",
   "execution_count": 192,
   "metadata": {},
   "outputs": [
    {
     "name": "stdout",
     "output_type": "stream",
     "text": [
      "(751563, 5)\n"
     ]
    },
    {
     "data": {
      "text/plain": [
       "(504407,)"
      ]
     },
     "execution_count": 192,
     "metadata": {},
     "output_type": "execute_result"
    }
   ],
   "source": [
    "#Ojo porque hay que ver el tema del secundario y eso. \n",
    "#Haciendo este Merge tenemos los usuarios que sabemos su genero edad y educacion.\n",
    "postulantes_filtrados_df = postulantes_gye_df.merge(postulantes_edu_df,on='idpostulante',how='outer')\n",
    "\n",
    "print(postulantes_filtrados_df.shape)\n",
    "\n",
    "postulantes_filtrados_df['idpostulante'].unique().shape"
   ]
  },
  {
   "cell_type": "code",
   "execution_count": 193,
   "metadata": {},
   "outputs": [
    {
     "data": {
      "text/html": [
       "<div>\n",
       "<style scoped>\n",
       "    .dataframe tbody tr th:only-of-type {\n",
       "        vertical-align: middle;\n",
       "    }\n",
       "\n",
       "    .dataframe tbody tr th {\n",
       "        vertical-align: top;\n",
       "    }\n",
       "\n",
       "    .dataframe thead th {\n",
       "        text-align: right;\n",
       "    }\n",
       "</style>\n",
       "<table border=\"1\" class=\"dataframe\">\n",
       "  <thead>\n",
       "    <tr style=\"text-align: right;\">\n",
       "      <th></th>\n",
       "      <th>idpostulante</th>\n",
       "      <th>fechanacimiento</th>\n",
       "      <th>sexo</th>\n",
       "      <th>nombre</th>\n",
       "      <th>estado</th>\n",
       "    </tr>\n",
       "  </thead>\n",
       "  <tbody>\n",
       "    <tr>\n",
       "      <th>0</th>\n",
       "      <td>6MM</td>\n",
       "      <td>1985-01-01</td>\n",
       "      <td>MASC</td>\n",
       "      <td>NaN</td>\n",
       "      <td>NaN</td>\n",
       "    </tr>\n",
       "    <tr>\n",
       "      <th>1</th>\n",
       "      <td>Nzz</td>\n",
       "      <td>NaN</td>\n",
       "      <td>NO_DECLARA</td>\n",
       "      <td>NaN</td>\n",
       "      <td>NaN</td>\n",
       "    </tr>\n",
       "    <tr>\n",
       "      <th>2</th>\n",
       "      <td>ZX1</td>\n",
       "      <td>NaN</td>\n",
       "      <td>NO_DECLARA</td>\n",
       "      <td>NaN</td>\n",
       "      <td>NaN</td>\n",
       "    </tr>\n",
       "    <tr>\n",
       "      <th>3</th>\n",
       "      <td>Nq5</td>\n",
       "      <td>NaN</td>\n",
       "      <td>NO_DECLARA</td>\n",
       "      <td>NaN</td>\n",
       "      <td>NaN</td>\n",
       "    </tr>\n",
       "    <tr>\n",
       "      <th>4</th>\n",
       "      <td>ebE</td>\n",
       "      <td>1952-07-07</td>\n",
       "      <td>MASC</td>\n",
       "      <td>Universitario</td>\n",
       "      <td>Graduado</td>\n",
       "    </tr>\n",
       "  </tbody>\n",
       "</table>\n",
       "</div>"
      ],
      "text/plain": [
       "  idpostulante fechanacimiento        sexo         nombre    estado\n",
       "0          6MM      1985-01-01        MASC            NaN       NaN\n",
       "1          Nzz             NaN  NO_DECLARA            NaN       NaN\n",
       "2          ZX1             NaN  NO_DECLARA            NaN       NaN\n",
       "3          Nq5             NaN  NO_DECLARA            NaN       NaN\n",
       "4          ebE      1952-07-07        MASC  Universitario  Graduado"
      ]
     },
     "execution_count": 193,
     "metadata": {},
     "output_type": "execute_result"
    }
   ],
   "source": [
    "postulantes_filtrados_df.head()"
   ]
  },
  {
   "cell_type": "code",
   "execution_count": 199,
   "metadata": {},
   "outputs": [],
   "source": [
    "postulantes_filtrados_df['nombre'].fillna('NO_DECLARA',inplace=True)\n",
    "postulantes_filtrados_df['estado'].fillna('NO_DECLARA', inplace=True)\n",
    "postulantes_filtrados_df['fechanacimiento'].fillna('1918-01-01', inplace=True)"
   ]
  },
  {
   "cell_type": "code",
   "execution_count": 200,
   "metadata": {},
   "outputs": [
    {
     "data": {
      "text/html": [
       "<div>\n",
       "<style scoped>\n",
       "    .dataframe tbody tr th:only-of-type {\n",
       "        vertical-align: middle;\n",
       "    }\n",
       "\n",
       "    .dataframe tbody tr th {\n",
       "        vertical-align: top;\n",
       "    }\n",
       "\n",
       "    .dataframe thead th {\n",
       "        text-align: right;\n",
       "    }\n",
       "</style>\n",
       "<table border=\"1\" class=\"dataframe\">\n",
       "  <thead>\n",
       "    <tr style=\"text-align: right;\">\n",
       "      <th></th>\n",
       "      <th>idpostulante</th>\n",
       "      <th>fechanacimiento</th>\n",
       "      <th>sexo</th>\n",
       "      <th>nombre</th>\n",
       "      <th>estado</th>\n",
       "    </tr>\n",
       "  </thead>\n",
       "  <tbody>\n",
       "    <tr>\n",
       "      <th>0</th>\n",
       "      <td>6MM</td>\n",
       "      <td>1985-01-01</td>\n",
       "      <td>MASC</td>\n",
       "      <td>NO_DECLARA</td>\n",
       "      <td>NO_DECLARA</td>\n",
       "    </tr>\n",
       "    <tr>\n",
       "      <th>1</th>\n",
       "      <td>Nzz</td>\n",
       "      <td>1918-01-01</td>\n",
       "      <td>NO_DECLARA</td>\n",
       "      <td>NO_DECLARA</td>\n",
       "      <td>NO_DECLARA</td>\n",
       "    </tr>\n",
       "    <tr>\n",
       "      <th>2</th>\n",
       "      <td>ZX1</td>\n",
       "      <td>1918-01-01</td>\n",
       "      <td>NO_DECLARA</td>\n",
       "      <td>NO_DECLARA</td>\n",
       "      <td>NO_DECLARA</td>\n",
       "    </tr>\n",
       "    <tr>\n",
       "      <th>3</th>\n",
       "      <td>Nq5</td>\n",
       "      <td>1918-01-01</td>\n",
       "      <td>NO_DECLARA</td>\n",
       "      <td>NO_DECLARA</td>\n",
       "      <td>NO_DECLARA</td>\n",
       "    </tr>\n",
       "    <tr>\n",
       "      <th>4</th>\n",
       "      <td>ebE</td>\n",
       "      <td>1952-07-07</td>\n",
       "      <td>MASC</td>\n",
       "      <td>Universitario</td>\n",
       "      <td>Graduado</td>\n",
       "    </tr>\n",
       "  </tbody>\n",
       "</table>\n",
       "</div>"
      ],
      "text/plain": [
       "  idpostulante fechanacimiento        sexo         nombre      estado\n",
       "0          6MM      1985-01-01        MASC     NO_DECLARA  NO_DECLARA\n",
       "1          Nzz      1918-01-01  NO_DECLARA     NO_DECLARA  NO_DECLARA\n",
       "2          ZX1      1918-01-01  NO_DECLARA     NO_DECLARA  NO_DECLARA\n",
       "3          Nq5      1918-01-01  NO_DECLARA     NO_DECLARA  NO_DECLARA\n",
       "4          ebE      1952-07-07        MASC  Universitario    Graduado"
      ]
     },
     "execution_count": 200,
     "metadata": {},
     "output_type": "execute_result"
    }
   ],
   "source": [
    "postulantes_filtrados_df.head()"
   ]
  },
  {
   "cell_type": "code",
   "execution_count": 201,
   "metadata": {},
   "outputs": [
    {
     "data": {
      "text/plain": [
       "(504407, 5)"
      ]
     },
     "execution_count": 201,
     "metadata": {},
     "output_type": "execute_result"
    }
   ],
   "source": [
    "#Sacamos los repetidos de postulantes_filtrados_df\n",
    "#Aca NO se tuvo en cuenta si me quedo con el usuario que hizo Master o Secundario, etc.\n",
    "\n",
    "postulantes_filtrados_df = postulantes_filtrados_df.drop_duplicates('idpostulante')\n",
    "postulantes_filtrados_df.shape"
   ]
  },
  {
   "cell_type": "code",
   "execution_count": 202,
   "metadata": {},
   "outputs": [
    {
     "data": {
      "text/plain": [
       "Graduado      257790\n",
       "En Curso      169432\n",
       "NO_DECLARA     56498\n",
       "Abandonado     20687\n",
       "Name: estado, dtype: int64"
      ]
     },
     "execution_count": 202,
     "metadata": {},
     "output_type": "execute_result"
    }
   ],
   "source": [
    "postulantes_filtrados_df['estado'].value_counts()"
   ]
  },
  {
   "cell_type": "code",
   "execution_count": 203,
   "metadata": {},
   "outputs": [
    {
     "data": {
      "text/plain": [
       "1    250962\n",
       "2    227653\n",
       "3     25785\n",
       "0         7\n",
       "Name: sexo, dtype: int64"
      ]
     },
     "execution_count": 203,
     "metadata": {},
     "output_type": "execute_result"
    }
   ],
   "source": [
    "#Convierto las variables categoricas a variables numericas para poder procesarlas con el algoritmo.\n",
    "postulantes_filtrados_df['sexo'] = pd.Categorical(postulantes_filtrados_df['sexo'])\n",
    "postulantes_filtrados_df['sexo'] = postulantes_filtrados_df['sexo'].cat.codes\n",
    "postulantes_filtrados_df['sexo'].value_counts()"
   ]
  },
  {
   "cell_type": "code",
   "execution_count": 204,
   "metadata": {},
   "outputs": [
    {
     "data": {
      "text/plain": [
       "7    189432\n",
       "5    164472\n",
       "6     66101\n",
       "2     56498\n",
       "3     14344\n",
       "4      7939\n",
       "1      5286\n",
       "0       335\n",
       "Name: nombre, dtype: int64"
      ]
     },
     "execution_count": 204,
     "metadata": {},
     "output_type": "execute_result"
    }
   ],
   "source": [
    "#Convierto las variables categoricas a variables numericas para poder procesarlas con el algoritmo.\n",
    "postulantes_filtrados_df['nombre'] = pd.Categorical(postulantes_filtrados_df['nombre'])\n",
    "postulantes_filtrados_df['nombre'] = postulantes_filtrados_df['nombre'].cat.codes\n",
    "postulantes_filtrados_df['nombre'].value_counts()"
   ]
  },
  {
   "cell_type": "code",
   "execution_count": 205,
   "metadata": {},
   "outputs": [
    {
     "data": {
      "text/plain": [
       "2    257790\n",
       "1    169432\n",
       "3     56498\n",
       "0     20687\n",
       "Name: estado, dtype: int64"
      ]
     },
     "execution_count": 205,
     "metadata": {},
     "output_type": "execute_result"
    }
   ],
   "source": [
    "#Convierto las variables categoricas a variables numericas para poder procesarlas con el algoritmo.\n",
    "postulantes_filtrados_df['estado'] = pd.Categorical(postulantes_filtrados_df['estado'])\n",
    "postulantes_filtrados_df['estado'] = postulantes_filtrados_df['estado'].cat.codes\n",
    "postulantes_filtrados_df['estado'].value_counts()"
   ]
  },
  {
   "cell_type": "code",
   "execution_count": 206,
   "metadata": {},
   "outputs": [
    {
     "data": {
      "text/html": [
       "<div>\n",
       "<style scoped>\n",
       "    .dataframe tbody tr th:only-of-type {\n",
       "        vertical-align: middle;\n",
       "    }\n",
       "\n",
       "    .dataframe tbody tr th {\n",
       "        vertical-align: top;\n",
       "    }\n",
       "\n",
       "    .dataframe thead th {\n",
       "        text-align: right;\n",
       "    }\n",
       "</style>\n",
       "<table border=\"1\" class=\"dataframe\">\n",
       "  <thead>\n",
       "    <tr style=\"text-align: right;\">\n",
       "      <th></th>\n",
       "      <th>idpostulante</th>\n",
       "      <th>sexo</th>\n",
       "      <th>nombre</th>\n",
       "      <th>estado</th>\n",
       "      <th>edad</th>\n",
       "    </tr>\n",
       "  </thead>\n",
       "  <tbody>\n",
       "    <tr>\n",
       "      <th>0</th>\n",
       "      <td>6MM</td>\n",
       "      <td>2</td>\n",
       "      <td>2</td>\n",
       "      <td>3</td>\n",
       "      <td>33</td>\n",
       "    </tr>\n",
       "    <tr>\n",
       "      <th>1</th>\n",
       "      <td>Nzz</td>\n",
       "      <td>3</td>\n",
       "      <td>2</td>\n",
       "      <td>3</td>\n",
       "      <td>100</td>\n",
       "    </tr>\n",
       "    <tr>\n",
       "      <th>2</th>\n",
       "      <td>ZX1</td>\n",
       "      <td>3</td>\n",
       "      <td>2</td>\n",
       "      <td>3</td>\n",
       "      <td>100</td>\n",
       "    </tr>\n",
       "    <tr>\n",
       "      <th>3</th>\n",
       "      <td>Nq5</td>\n",
       "      <td>3</td>\n",
       "      <td>2</td>\n",
       "      <td>3</td>\n",
       "      <td>100</td>\n",
       "    </tr>\n",
       "    <tr>\n",
       "      <th>4</th>\n",
       "      <td>ebE</td>\n",
       "      <td>2</td>\n",
       "      <td>7</td>\n",
       "      <td>2</td>\n",
       "      <td>66</td>\n",
       "    </tr>\n",
       "  </tbody>\n",
       "</table>\n",
       "</div>"
      ],
      "text/plain": [
       "  idpostulante  sexo  nombre  estado  edad\n",
       "0          6MM     2       2       3    33\n",
       "1          Nzz     3       2       3   100\n",
       "2          ZX1     3       2       3   100\n",
       "3          Nq5     3       2       3   100\n",
       "4          ebE     2       7       2    66"
      ]
     },
     "execution_count": 206,
     "metadata": {},
     "output_type": "execute_result"
    }
   ],
   "source": [
    "#Obtengo la edad\n",
    "postulantes_filtrados_df = postulantes_filtrados_df[ (postulantes_filtrados_df['fechanacimiento'].str.startswith('0')) == False]\n",
    "postulantes_filtrados_df.loc[:,'fechanacimiento'] = pd.to_datetime(postulantes_filtrados_df['fechanacimiento']) \n",
    "postulantes_filtrados_df.loc[:,'edad'] = (2018 - postulantes_filtrados_df.fechanacimiento.dt.year)\n",
    "postulantes_filtrados_df.drop(columns='fechanacimiento',axis=1,inplace=True)\n",
    "postulantes_filtrados_df.head()\n",
    "#Generar edad por bloques, como queremos hacer con las empresas mas populares."
   ]
  },
  {
   "cell_type": "markdown",
   "metadata": {},
   "source": [
    "# Avisos Detalle"
   ]
  },
  {
   "cell_type": "code",
   "execution_count": 207,
   "metadata": {},
   "outputs": [
    {
     "data": {
      "text/html": [
       "<div>\n",
       "<style scoped>\n",
       "    .dataframe tbody tr th:only-of-type {\n",
       "        vertical-align: middle;\n",
       "    }\n",
       "\n",
       "    .dataframe tbody tr th {\n",
       "        vertical-align: top;\n",
       "    }\n",
       "\n",
       "    .dataframe thead th {\n",
       "        text-align: right;\n",
       "    }\n",
       "</style>\n",
       "<table border=\"1\" class=\"dataframe\">\n",
       "  <thead>\n",
       "    <tr style=\"text-align: right;\">\n",
       "      <th></th>\n",
       "      <th>idaviso</th>\n",
       "      <th>idpais</th>\n",
       "      <th>titulo</th>\n",
       "      <th>descripcion</th>\n",
       "      <th>nombre_zona</th>\n",
       "      <th>ciudad</th>\n",
       "      <th>mapacalle</th>\n",
       "      <th>tipo_de_trabajo</th>\n",
       "      <th>nivel_laboral</th>\n",
       "      <th>nombre_area</th>\n",
       "      <th>denominacion_empresa</th>\n",
       "    </tr>\n",
       "  </thead>\n",
       "  <tbody>\n",
       "    <tr>\n",
       "      <th>0</th>\n",
       "      <td>1111556097</td>\n",
       "      <td>1</td>\n",
       "      <td>Responsable de Marketing-Producto Div. Constru...</td>\n",
       "      <td>&lt;p&gt;Buscamos un &lt;strong&gt;Responsable de Producto...</td>\n",
       "      <td>Gran Buenos Aires</td>\n",
       "      <td>NaN</td>\n",
       "      <td>NaN</td>\n",
       "      <td>Full-time</td>\n",
       "      <td>Senior / Semi-Senior</td>\n",
       "      <td>Desarrollo de Negocios</td>\n",
       "      <td>Sinteplast S.A.</td>\n",
       "    </tr>\n",
       "    <tr>\n",
       "      <th>1</th>\n",
       "      <td>1111949392</td>\n",
       "      <td>1</td>\n",
       "      <td>Asesor de Servicios - Postventa Chevrolet</td>\n",
       "      <td>&lt;p&gt;&lt;span style=\"\"&gt;Para nuestro cliente, conces...</td>\n",
       "      <td>Gran Buenos Aires</td>\n",
       "      <td>NaN</td>\n",
       "      <td>NaN</td>\n",
       "      <td>Full-time</td>\n",
       "      <td>Senior / Semi-Senior</td>\n",
       "      <td>Ingeniería  Eléctrica y Electrónica</td>\n",
       "      <td>Roycan</td>\n",
       "    </tr>\n",
       "    <tr>\n",
       "      <th>2</th>\n",
       "      <td>1112145935</td>\n",
       "      <td>1</td>\n",
       "      <td>Analistas de Impuestos Sr Ssr y Jr</td>\n",
       "      <td>&lt;p&gt;Importante Estudio de Auditoria y Consultor...</td>\n",
       "      <td>Gran Buenos Aires</td>\n",
       "      <td>NaN</td>\n",
       "      <td>NaN</td>\n",
       "      <td>Full-time</td>\n",
       "      <td>Senior / Semi-Senior</td>\n",
       "      <td>Impuestos</td>\n",
       "      <td>Lighthouse Smart</td>\n",
       "    </tr>\n",
       "    <tr>\n",
       "      <th>3</th>\n",
       "      <td>1112146010</td>\n",
       "      <td>1</td>\n",
       "      <td>Software Engineer</td>\n",
       "      <td>&lt;p&gt; &lt;/p&gt;&lt;p&gt;Chevron is a multinational company ...</td>\n",
       "      <td>Gran Buenos Aires</td>\n",
       "      <td>NaN</td>\n",
       "      <td>NaN</td>\n",
       "      <td>Full-time</td>\n",
       "      <td>Senior / Semi-Senior</td>\n",
       "      <td>Programación</td>\n",
       "      <td>Chevron Buenos Aires Shared Services Center</td>\n",
       "    </tr>\n",
       "    <tr>\n",
       "      <th>4</th>\n",
       "      <td>1112211475</td>\n",
       "      <td>1</td>\n",
       "      <td>Business Developer Manager</td>\n",
       "      <td>&lt;p&gt;Importante empresa de energías renovables, ...</td>\n",
       "      <td>Gran Buenos Aires</td>\n",
       "      <td>NaN</td>\n",
       "      <td>NaN</td>\n",
       "      <td>Full-time</td>\n",
       "      <td>Senior / Semi-Senior</td>\n",
       "      <td>Comercial</td>\n",
       "      <td>RANDSTAD</td>\n",
       "    </tr>\n",
       "  </tbody>\n",
       "</table>\n",
       "</div>"
      ],
      "text/plain": [
       "      idaviso  idpais                                             titulo  \\\n",
       "0  1111556097       1  Responsable de Marketing-Producto Div. Constru...   \n",
       "1  1111949392       1          Asesor de Servicios - Postventa Chevrolet   \n",
       "2  1112145935       1                 Analistas de Impuestos Sr Ssr y Jr   \n",
       "3  1112146010       1                                  Software Engineer   \n",
       "4  1112211475       1                         Business Developer Manager   \n",
       "\n",
       "                                         descripcion        nombre_zona  \\\n",
       "0  <p>Buscamos un <strong>Responsable de Producto...  Gran Buenos Aires   \n",
       "1  <p><span style=\"\">Para nuestro cliente, conces...  Gran Buenos Aires   \n",
       "2  <p>Importante Estudio de Auditoria y Consultor...  Gran Buenos Aires   \n",
       "3  <p> </p><p>Chevron is a multinational company ...  Gran Buenos Aires   \n",
       "4  <p>Importante empresa de energías renovables, ...  Gran Buenos Aires   \n",
       "\n",
       "  ciudad mapacalle tipo_de_trabajo         nivel_laboral  \\\n",
       "0    NaN       NaN       Full-time  Senior / Semi-Senior   \n",
       "1    NaN       NaN       Full-time  Senior / Semi-Senior   \n",
       "2    NaN       NaN       Full-time  Senior / Semi-Senior   \n",
       "3    NaN       NaN       Full-time  Senior / Semi-Senior   \n",
       "4    NaN       NaN       Full-time  Senior / Semi-Senior   \n",
       "\n",
       "                           nombre_area  \\\n",
       "0               Desarrollo de Negocios   \n",
       "1  Ingeniería  Eléctrica y Electrónica   \n",
       "2                            Impuestos   \n",
       "3                         Programación   \n",
       "4                            Comercial   \n",
       "\n",
       "                          denominacion_empresa  \n",
       "0                              Sinteplast S.A.  \n",
       "1                                       Roycan  \n",
       "2                             Lighthouse Smart  \n",
       "3  Chevron Buenos Aires Shared Services Center  \n",
       "4                                     RANDSTAD  "
      ]
     },
     "execution_count": 207,
     "metadata": {},
     "output_type": "execute_result"
    }
   ],
   "source": [
    "avisos_detalle_df.head()"
   ]
  },
  {
   "cell_type": "code",
   "execution_count": 208,
   "metadata": {
    "scrolled": true
   },
   "outputs": [
    {
     "name": "stdout",
     "output_type": "stream",
     "text": [
      "(25901, 11)\n",
      "(25288,)\n"
     ]
    }
   ],
   "source": [
    "print(avisos_detalle_df.shape)\n",
    "print(avisos_detalle_df['idaviso'].unique().shape)"
   ]
  },
  {
   "cell_type": "code",
   "execution_count": 209,
   "metadata": {},
   "outputs": [
    {
     "data": {
      "text/plain": [
       "(25288, 11)"
      ]
     },
     "execution_count": 209,
     "metadata": {},
     "output_type": "execute_result"
    }
   ],
   "source": [
    "#Sacamos los repetidos de avisos_detalle\n",
    "avisos_detalle_df = avisos_detalle_df.drop_duplicates('idaviso')\n",
    "avisos_detalle_df.shape"
   ]
  },
  {
   "cell_type": "code",
   "execution_count": 210,
   "metadata": {},
   "outputs": [
    {
     "data": {
      "text/plain": [
       "(18695, 11)"
      ]
     },
     "execution_count": 210,
     "metadata": {},
     "output_type": "execute_result"
    }
   ],
   "source": [
    "#Me quedo con los avisos del archivo de postulaciones. Esto seria, solo los avisos que tuvieron postulaciones.\n",
    "\n",
    "\n",
    "#¿Aca me podria quedar con los archivos que NO tuvieron postulaciones para armar un set de NO postulaciones?\n",
    "\n",
    "column = postulaciones_df['idaviso'].to_frame()\n",
    "avisos_detalle_filtrados_df = column.drop_duplicates('idaviso').merge(avisos_detalle_df,on='idaviso',how='inner')\n",
    "#avisos_no_postulaciones_df = pd.merge(avisos_detalle_df,avisos_detalle_filtrados_df,on='idaviso',how='right') \n",
    "#IMPLEMENTAR\n",
    "avisos_detalle_filtrados_df.shape"
   ]
  },
  {
   "cell_type": "code",
   "execution_count": 153,
   "metadata": {},
   "outputs": [],
   "source": [
    "#avisos_no_postulaciones_df.shape\n"
   ]
  },
  {
   "cell_type": "code",
   "execution_count": 212,
   "metadata": {},
   "outputs": [],
   "source": [
    "#avisos_detalle_df.shape"
   ]
  },
  {
   "cell_type": "markdown",
   "metadata": {},
   "source": [
    "Hago la conversion de variables categoricas a variables numericas"
   ]
  },
  {
   "cell_type": "code",
   "execution_count": 213,
   "metadata": {},
   "outputs": [],
   "source": [
    "#Hago un drop de las columnas que no voy a utilizar.\n",
    "#Mas adelanto debo modificar esto porque la idea es usar denominacion empresa, descripcion y titulo para nuevos features.\n",
    "\n",
    "avisos_detalle_filtrados_df= avisos_detalle_filtrados_df.drop(columns=['denominacion_empresa','idpais','mapacalle','ciudad','descripcion','titulo'],axis=1)\n"
   ]
  },
  {
   "cell_type": "code",
   "execution_count": 214,
   "metadata": {},
   "outputs": [
    {
     "data": {
      "text/plain": [
       " 4    12779\n",
       " 2     2922\n",
       " 3     1266\n",
       " 1     1161\n",
       "-1      330\n",
       " 0      237\n",
       "Name: nivel_laboral, dtype: int64"
      ]
     },
     "execution_count": 214,
     "metadata": {},
     "output_type": "execute_result"
    }
   ],
   "source": [
    "avisos_detalle_filtrados_df['nivel_laboral'] = pd.Categorical(avisos_detalle_filtrados_df['nivel_laboral'])\n",
    "avisos_detalle_filtrados_df['nivel_laboral'] = avisos_detalle_filtrados_df['nivel_laboral'].cat.codes\n",
    "avisos_detalle_filtrados_df['nivel_laboral'].value_counts()"
   ]
  },
  {
   "cell_type": "code",
   "execution_count": 215,
   "metadata": {},
   "outputs": [
    {
     "data": {
      "text/plain": [
       "183    2297\n",
       "29     1338\n",
       "2      1277\n",
       "141    1178\n",
       "143     830\n",
       "41      590\n",
       "168     579\n",
       "116     442\n",
       "14      439\n",
       "129     299\n",
       "80      293\n",
       "115     289\n",
       "152     287\n",
       "166     284\n",
       "5       281\n",
       "118     236\n",
       "33      228\n",
       "25      223\n",
       "4       211\n",
       "117     205\n",
       "135     195\n",
       "179     195\n",
       "77      193\n",
       "45      192\n",
       "151     189\n",
       "50      172\n",
       "172     170\n",
       "173     168\n",
       "113     165\n",
       "121     156\n",
       "       ... \n",
       "37        3\n",
       "175       3\n",
       "67        3\n",
       "126       2\n",
       "148       2\n",
       "18        2\n",
       "71        2\n",
       "105       2\n",
       "124       2\n",
       "137       2\n",
       "111       2\n",
       "55        2\n",
       "10        2\n",
       "65        2\n",
       "74        1\n",
       "106       1\n",
       "68        1\n",
       "181       1\n",
       "128       1\n",
       "171       1\n",
       "147       1\n",
       "176       1\n",
       "119       1\n",
       "28        1\n",
       "51        1\n",
       "79        1\n",
       "178       1\n",
       "47        1\n",
       "155       1\n",
       "83        1\n",
       "Name: nombre_area, Length: 186, dtype: int64"
      ]
     },
     "execution_count": 215,
     "metadata": {},
     "output_type": "execute_result"
    }
   ],
   "source": [
    "avisos_detalle_filtrados_df['nombre_area'] = pd.Categorical(avisos_detalle_filtrados_df['nombre_area'])\n",
    "avisos_detalle_filtrados_df['nombre_area'] = avisos_detalle_filtrados_df['nombre_area'].cat.codes\n",
    "avisos_detalle_filtrados_df['nombre_area'].value_counts()"
   ]
  },
  {
   "cell_type": "code",
   "execution_count": 216,
   "metadata": {},
   "outputs": [
    {
     "data": {
      "text/plain": [
       "183    2297\n",
       "29     1338\n",
       "2      1277\n",
       "141    1178\n",
       "143     830\n",
       "41      590\n",
       "168     579\n",
       "116     442\n",
       "14      439\n",
       "129     299\n",
       "80      293\n",
       "115     289\n",
       "152     287\n",
       "166     284\n",
       "5       281\n",
       "118     236\n",
       "33      228\n",
       "25      223\n",
       "4       211\n",
       "117     205\n",
       "135     195\n",
       "179     195\n",
       "77      193\n",
       "45      192\n",
       "151     189\n",
       "50      172\n",
       "172     170\n",
       "173     168\n",
       "113     165\n",
       "121     156\n",
       "       ... \n",
       "37        3\n",
       "175       3\n",
       "67        3\n",
       "126       2\n",
       "148       2\n",
       "18        2\n",
       "71        2\n",
       "105       2\n",
       "124       2\n",
       "137       2\n",
       "111       2\n",
       "55        2\n",
       "10        2\n",
       "65        2\n",
       "74        1\n",
       "106       1\n",
       "68        1\n",
       "181       1\n",
       "128       1\n",
       "171       1\n",
       "147       1\n",
       "176       1\n",
       "119       1\n",
       "28        1\n",
       "51        1\n",
       "79        1\n",
       "178       1\n",
       "47        1\n",
       "155       1\n",
       "83        1\n",
       "Name: nombre_area, Length: 186, dtype: int64"
      ]
     },
     "execution_count": 216,
     "metadata": {},
     "output_type": "execute_result"
    }
   ],
   "source": [
    "avisos_detalle_filtrados_df['nombre_area'] = pd.Categorical(avisos_detalle_filtrados_df['nombre_area'])\n",
    "avisos_detalle_filtrados_df['nombre_area'] = avisos_detalle_filtrados_df['nombre_area'].cat.codes\n",
    "avisos_detalle_filtrados_df['nombre_area'].value_counts()"
   ]
  },
  {
   "cell_type": "code",
   "execution_count": 217,
   "metadata": {},
   "outputs": [
    {
     "data": {
      "text/plain": [
       "1    17127\n",
       "2     1090\n",
       "7      179\n",
       "5      105\n",
       "8       60\n",
       "3       59\n",
       "4       53\n",
       "0       18\n",
       "6        3\n",
       "9        1\n",
       "Name: tipo_de_trabajo, dtype: int64"
      ]
     },
     "execution_count": 217,
     "metadata": {},
     "output_type": "execute_result"
    }
   ],
   "source": [
    "avisos_detalle_filtrados_df['tipo_de_trabajo'] = pd.Categorical(avisos_detalle_filtrados_df['tipo_de_trabajo'])\n",
    "avisos_detalle_filtrados_df['tipo_de_trabajo'] = avisos_detalle_filtrados_df['tipo_de_trabajo'].cat.codes\n",
    "avisos_detalle_filtrados_df['tipo_de_trabajo'].value_counts()"
   ]
  },
  {
   "cell_type": "code",
   "execution_count": 218,
   "metadata": {},
   "outputs": [
    {
     "data": {
      "text/plain": [
       "5    17126\n",
       "1     1543\n",
       "0       15\n",
       "4        9\n",
       "3        1\n",
       "2        1\n",
       "Name: nombre_zona, dtype: int64"
      ]
     },
     "execution_count": 218,
     "metadata": {},
     "output_type": "execute_result"
    }
   ],
   "source": [
    "avisos_detalle_filtrados_df['nombre_zona'] = pd.Categorical(avisos_detalle_filtrados_df['nombre_zona'])\n",
    "avisos_detalle_filtrados_df['nombre_zona'] = avisos_detalle_filtrados_df['nombre_zona'].cat.codes\n",
    "avisos_detalle_filtrados_df['nombre_zona'].value_counts()"
   ]
  },
  {
   "cell_type": "code",
   "execution_count": 219,
   "metadata": {},
   "outputs": [
    {
     "data": {
      "text/html": [
       "<div>\n",
       "<style scoped>\n",
       "    .dataframe tbody tr th:only-of-type {\n",
       "        vertical-align: middle;\n",
       "    }\n",
       "\n",
       "    .dataframe tbody tr th {\n",
       "        vertical-align: top;\n",
       "    }\n",
       "\n",
       "    .dataframe thead th {\n",
       "        text-align: right;\n",
       "    }\n",
       "</style>\n",
       "<table border=\"1\" class=\"dataframe\">\n",
       "  <thead>\n",
       "    <tr style=\"text-align: right;\">\n",
       "      <th></th>\n",
       "      <th>idaviso</th>\n",
       "      <th>nombre_zona</th>\n",
       "      <th>tipo_de_trabajo</th>\n",
       "      <th>nivel_laboral</th>\n",
       "      <th>nombre_area</th>\n",
       "    </tr>\n",
       "  </thead>\n",
       "  <tbody>\n",
       "    <tr>\n",
       "      <th>0</th>\n",
       "      <td>1112248724</td>\n",
       "      <td>5</td>\n",
       "      <td>1</td>\n",
       "      <td>4</td>\n",
       "      <td>118</td>\n",
       "    </tr>\n",
       "    <tr>\n",
       "      <th>1</th>\n",
       "      <td>1112286523</td>\n",
       "      <td>5</td>\n",
       "      <td>1</td>\n",
       "      <td>4</td>\n",
       "      <td>157</td>\n",
       "    </tr>\n",
       "    <tr>\n",
       "      <th>2</th>\n",
       "      <td>1112272060</td>\n",
       "      <td>5</td>\n",
       "      <td>1</td>\n",
       "      <td>4</td>\n",
       "      <td>151</td>\n",
       "    </tr>\n",
       "    <tr>\n",
       "      <th>3</th>\n",
       "      <td>1112288401</td>\n",
       "      <td>5</td>\n",
       "      <td>1</td>\n",
       "      <td>4</td>\n",
       "      <td>151</td>\n",
       "    </tr>\n",
       "    <tr>\n",
       "      <th>4</th>\n",
       "      <td>1112300563</td>\n",
       "      <td>5</td>\n",
       "      <td>1</td>\n",
       "      <td>4</td>\n",
       "      <td>157</td>\n",
       "    </tr>\n",
       "  </tbody>\n",
       "</table>\n",
       "</div>"
      ],
      "text/plain": [
       "      idaviso  nombre_zona  tipo_de_trabajo  nivel_laboral  nombre_area\n",
       "0  1112248724            5                1              4          118\n",
       "1  1112286523            5                1              4          157\n",
       "2  1112272060            5                1              4          151\n",
       "3  1112288401            5                1              4          151\n",
       "4  1112300563            5                1              4          157"
      ]
     },
     "execution_count": 219,
     "metadata": {},
     "output_type": "execute_result"
    }
   ],
   "source": [
    "avisos_detalle_filtrados_df.head()"
   ]
  },
  {
   "cell_type": "markdown",
   "metadata": {},
   "source": [
    "# Postulaciones"
   ]
  },
  {
   "cell_type": "code",
   "execution_count": 220,
   "metadata": {},
   "outputs": [
    {
     "data": {
      "text/plain": [
       "(504372,)"
      ]
     },
     "execution_count": 220,
     "metadata": {},
     "output_type": "execute_result"
    }
   ],
   "source": [
    "postulantes_filtrados_df['idpostulante'].unique().shape"
   ]
  },
  {
   "cell_type": "code",
   "execution_count": 221,
   "metadata": {
    "scrolled": true
   },
   "outputs": [
    {
     "data": {
      "text/html": [
       "<div>\n",
       "<style scoped>\n",
       "    .dataframe tbody tr th:only-of-type {\n",
       "        vertical-align: middle;\n",
       "    }\n",
       "\n",
       "    .dataframe tbody tr th {\n",
       "        vertical-align: top;\n",
       "    }\n",
       "\n",
       "    .dataframe thead th {\n",
       "        text-align: right;\n",
       "    }\n",
       "</style>\n",
       "<table border=\"1\" class=\"dataframe\">\n",
       "  <thead>\n",
       "    <tr style=\"text-align: right;\">\n",
       "      <th></th>\n",
       "      <th>idaviso</th>\n",
       "      <th>idpostulante</th>\n",
       "      <th>fechapostulacion</th>\n",
       "    </tr>\n",
       "  </thead>\n",
       "  <tbody>\n",
       "    <tr>\n",
       "      <th>0</th>\n",
       "      <td>1112248724</td>\n",
       "      <td>NjlD</td>\n",
       "      <td>2018-01-19 07:39:16</td>\n",
       "    </tr>\n",
       "    <tr>\n",
       "      <th>1</th>\n",
       "      <td>1112286523</td>\n",
       "      <td>ZaO5</td>\n",
       "      <td>2018-01-24 15:07:39</td>\n",
       "    </tr>\n",
       "    <tr>\n",
       "      <th>2</th>\n",
       "      <td>1112272060</td>\n",
       "      <td>ZaO5</td>\n",
       "      <td>2018-01-24 15:20:10</td>\n",
       "    </tr>\n",
       "    <tr>\n",
       "      <th>3</th>\n",
       "      <td>1112288401</td>\n",
       "      <td>ZaO5</td>\n",
       "      <td>2018-01-26 08:37:04</td>\n",
       "    </tr>\n",
       "    <tr>\n",
       "      <th>4</th>\n",
       "      <td>1112300563</td>\n",
       "      <td>ZaO5</td>\n",
       "      <td>2018-01-30 13:35:48</td>\n",
       "    </tr>\n",
       "  </tbody>\n",
       "</table>\n",
       "</div>"
      ],
      "text/plain": [
       "      idaviso idpostulante     fechapostulacion\n",
       "0  1112248724         NjlD  2018-01-19 07:39:16\n",
       "1  1112286523         ZaO5  2018-01-24 15:07:39\n",
       "2  1112272060         ZaO5  2018-01-24 15:20:10\n",
       "3  1112288401         ZaO5  2018-01-26 08:37:04\n",
       "4  1112300563         ZaO5  2018-01-30 13:35:48"
      ]
     },
     "execution_count": 221,
     "metadata": {},
     "output_type": "execute_result"
    }
   ],
   "source": [
    "postulaciones_df.head()"
   ]
  },
  {
   "cell_type": "code",
   "execution_count": 222,
   "metadata": {
    "scrolled": true
   },
   "outputs": [
    {
     "name": "stdout",
     "output_type": "stream",
     "text": [
      "(504372,)\n",
      "(348883,)\n"
     ]
    }
   ],
   "source": [
    "#Comparamos los \"usuarios\" con los  postulantes.\n",
    "\n",
    "print(postulantes_filtrados_df.idpostulante.unique().shape)\n",
    "print(postulaciones_df.idpostulante.unique().shape)"
   ]
  },
  {
   "cell_type": "code",
   "execution_count": 223,
   "metadata": {},
   "outputs": [
    {
     "data": {
      "text/plain": [
       "(348864,)"
      ]
     },
     "execution_count": 223,
     "metadata": {},
     "output_type": "execute_result"
    }
   ],
   "source": [
    "#Como resultado tenemos los postulantes que coinciden en postulaciones y postulantes\n",
    "#Observamos que hay postulaciones de usuarios que no estan en el dataframe de postulantes.\n",
    "postulantes_filtrados_efectivos_df = postulaciones_df.merge(postulantes_filtrados_df,on='idpostulante',how='inner')\n",
    "postulantes_filtrados_efectivos_df.idpostulante.unique().shape"
   ]
  },
  {
   "cell_type": "code",
   "execution_count": 224,
   "metadata": {},
   "outputs": [
    {
     "data": {
      "text/plain": [
       "(348864, 7)"
      ]
     },
     "execution_count": 224,
     "metadata": {},
     "output_type": "execute_result"
    }
   ],
   "source": [
    "postulantes_filtrados_efectivos_df = postulantes_filtrados_efectivos_df.drop_duplicates('idpostulante')\n",
    "postulantes_filtrados_efectivos_df.shape"
   ]
  },
  {
   "cell_type": "code",
   "execution_count": 225,
   "metadata": {},
   "outputs": [
    {
     "data": {
      "text/html": [
       "<div>\n",
       "<style scoped>\n",
       "    .dataframe tbody tr th:only-of-type {\n",
       "        vertical-align: middle;\n",
       "    }\n",
       "\n",
       "    .dataframe tbody tr th {\n",
       "        vertical-align: top;\n",
       "    }\n",
       "\n",
       "    .dataframe thead th {\n",
       "        text-align: right;\n",
       "    }\n",
       "</style>\n",
       "<table border=\"1\" class=\"dataframe\">\n",
       "  <thead>\n",
       "    <tr style=\"text-align: right;\">\n",
       "      <th></th>\n",
       "      <th>idpostulante</th>\n",
       "      <th>sexo</th>\n",
       "      <th>nombre</th>\n",
       "      <th>estado</th>\n",
       "      <th>edad</th>\n",
       "    </tr>\n",
       "  </thead>\n",
       "  <tbody>\n",
       "    <tr>\n",
       "      <th>0</th>\n",
       "      <td>NjlD</td>\n",
       "      <td>1</td>\n",
       "      <td>7</td>\n",
       "      <td>2</td>\n",
       "      <td>37</td>\n",
       "    </tr>\n",
       "    <tr>\n",
       "      <th>1</th>\n",
       "      <td>ZaO5</td>\n",
       "      <td>1</td>\n",
       "      <td>6</td>\n",
       "      <td>2</td>\n",
       "      <td>40</td>\n",
       "    </tr>\n",
       "    <tr>\n",
       "      <th>2</th>\n",
       "      <td>NdJl</td>\n",
       "      <td>2</td>\n",
       "      <td>4</td>\n",
       "      <td>1</td>\n",
       "      <td>49</td>\n",
       "    </tr>\n",
       "    <tr>\n",
       "      <th>3</th>\n",
       "      <td>5kNq</td>\n",
       "      <td>2</td>\n",
       "      <td>3</td>\n",
       "      <td>1</td>\n",
       "      <td>45</td>\n",
       "    </tr>\n",
       "    <tr>\n",
       "      <th>4</th>\n",
       "      <td>Ez8J</td>\n",
       "      <td>2</td>\n",
       "      <td>7</td>\n",
       "      <td>0</td>\n",
       "      <td>50</td>\n",
       "    </tr>\n",
       "  </tbody>\n",
       "</table>\n",
       "</div>"
      ],
      "text/plain": [
       "  idpostulante  sexo  nombre  estado  edad\n",
       "0         NjlD     1       7       2    37\n",
       "1         ZaO5     1       6       2    40\n",
       "2         NdJl     2       4       1    49\n",
       "3         5kNq     2       3       1    45\n",
       "4         Ez8J     2       7       0    50"
      ]
     },
     "execution_count": 225,
     "metadata": {},
     "output_type": "execute_result"
    }
   ],
   "source": [
    "postulantes_filtrados_efectivos_df =  postulantes_filtrados_efectivos_df.drop(['idaviso','fechapostulacion'],axis='columns')\n",
    "postulantes_filtrados_efectivos_df = postulantes_filtrados_efectivos_df.reset_index()\n",
    "postulantes_filtrados_efectivos_df =  postulantes_filtrados_efectivos_df.drop('index',axis='columns')\n",
    "postulantes_filtrados_efectivos_df.head()"
   ]
  },
  {
   "cell_type": "code",
   "execution_count": 226,
   "metadata": {},
   "outputs": [
    {
     "data": {
      "text/plain": [
       "7    136289\n",
       "5    120222\n",
       "6     47565\n",
       "2     25190\n",
       "3     10633\n",
       "4      5280\n",
       "1      3454\n",
       "0       231\n",
       "Name: nombre, dtype: int64"
      ]
     },
     "execution_count": 226,
     "metadata": {},
     "output_type": "execute_result"
    }
   ],
   "source": [
    "postulantes_filtrados_efectivos_df['nombre'].value_counts()"
   ]
  },
  {
   "cell_type": "code",
   "execution_count": 227,
   "metadata": {},
   "outputs": [
    {
     "data": {
      "text/html": [
       "<div>\n",
       "<style scoped>\n",
       "    .dataframe tbody tr th:only-of-type {\n",
       "        vertical-align: middle;\n",
       "    }\n",
       "\n",
       "    .dataframe tbody tr th {\n",
       "        vertical-align: top;\n",
       "    }\n",
       "\n",
       "    .dataframe thead th {\n",
       "        text-align: right;\n",
       "    }\n",
       "</style>\n",
       "<table border=\"1\" class=\"dataframe\">\n",
       "  <thead>\n",
       "    <tr style=\"text-align: right;\">\n",
       "      <th></th>\n",
       "      <th>idpostulante</th>\n",
       "      <th>sexo</th>\n",
       "      <th>nombre</th>\n",
       "      <th>estado</th>\n",
       "      <th>edad</th>\n",
       "    </tr>\n",
       "  </thead>\n",
       "  <tbody>\n",
       "    <tr>\n",
       "      <th>0</th>\n",
       "      <td>NjlD</td>\n",
       "      <td>1</td>\n",
       "      <td>7</td>\n",
       "      <td>2</td>\n",
       "      <td>37</td>\n",
       "    </tr>\n",
       "    <tr>\n",
       "      <th>1</th>\n",
       "      <td>ZaO5</td>\n",
       "      <td>1</td>\n",
       "      <td>6</td>\n",
       "      <td>2</td>\n",
       "      <td>40</td>\n",
       "    </tr>\n",
       "    <tr>\n",
       "      <th>2</th>\n",
       "      <td>NdJl</td>\n",
       "      <td>2</td>\n",
       "      <td>4</td>\n",
       "      <td>1</td>\n",
       "      <td>49</td>\n",
       "    </tr>\n",
       "    <tr>\n",
       "      <th>3</th>\n",
       "      <td>5kNq</td>\n",
       "      <td>2</td>\n",
       "      <td>3</td>\n",
       "      <td>1</td>\n",
       "      <td>45</td>\n",
       "    </tr>\n",
       "    <tr>\n",
       "      <th>4</th>\n",
       "      <td>Ez8J</td>\n",
       "      <td>2</td>\n",
       "      <td>7</td>\n",
       "      <td>0</td>\n",
       "      <td>50</td>\n",
       "    </tr>\n",
       "  </tbody>\n",
       "</table>\n",
       "</div>"
      ],
      "text/plain": [
       "  idpostulante  sexo  nombre  estado  edad\n",
       "0         NjlD     1       7       2    37\n",
       "1         ZaO5     1       6       2    40\n",
       "2         NdJl     2       4       1    49\n",
       "3         5kNq     2       3       1    45\n",
       "4         Ez8J     2       7       0    50"
      ]
     },
     "execution_count": 227,
     "metadata": {},
     "output_type": "execute_result"
    }
   ],
   "source": [
    "# postulantes_filtrados_efectivos_df tiene los postulantes que efectivamente se postularon\n",
    "# y que ademas tienen informacion sobre edad y estudios, etc.\n",
    "# Los que estan en postulaciones pero NO en gye y edu, fueron descartados en este paso.\n",
    "postulantes_filtrados_efectivos_df.head()"
   ]
  },
  {
   "cell_type": "code",
   "execution_count": 228,
   "metadata": {
    "scrolled": true
   },
   "outputs": [
    {
     "data": {
      "text/plain": [
       "(348864, 5)"
      ]
     },
     "execution_count": 228,
     "metadata": {},
     "output_type": "execute_result"
    }
   ],
   "source": [
    "postulantes_filtrados_efectivos_df.shape"
   ]
  },
  {
   "cell_type": "markdown",
   "metadata": {},
   "source": [
    "# Armado del Set de Entrenamiento"
   ]
  },
  {
   "cell_type": "code",
   "execution_count": 306,
   "metadata": {},
   "outputs": [],
   "source": [
    "# Primero armo un dataframe con la informacion de postulaciones que ya tengo -> postulantes_df\n",
    "# Observar que aca puede haber postulantes sobre los cuales no tengo informacion sobre genero y edad.\n",
    "# Tambien puede haber postulantes que luego no aparezcan en el test final.\n",
    "\n",
    "\n",
    "# ¿Deberia filtrar los postulantes sobre los cuales no tengo info sobre su genero y edad?\n",
    "avisos = avisos_detalle_df.drop_duplicates('idaviso')\n",
    "avisos = avisos['idaviso'].to_frame()\n",
    "\n",
    "postulantes = postulantes_filtrados_df.drop_duplicates('idpostulante')\n",
    "postulantes = postulantes['idpostulante'].to_frame()\n",
    "\n",
    "\n",
    "postulantes_df =  postulaciones_df.merge(avisos,how='inner',on='idaviso')\n",
    "postulantes_df = postulantes_df.merge(postulantes,how='inner',on='idpostulante')\n",
    "\n",
    "postulantes_df =postulantes_df.groupby('idpostulante').agg({'idaviso':'value_counts'})\n",
    "postulantes_df.columns=['postulacion']\n",
    "postulantes_df['postulacion'] = 1 #Para los casos en que se repiten.\n",
    "\n",
    "avisos = 0\n",
    "postulantes = 0"
   ]
  },
  {
   "cell_type": "code",
   "execution_count": 307,
   "metadata": {
    "scrolled": true
   },
   "outputs": [
    {
     "data": {
      "text/html": [
       "<div>\n",
       "<style scoped>\n",
       "    .dataframe tbody tr th:only-of-type {\n",
       "        vertical-align: middle;\n",
       "    }\n",
       "\n",
       "    .dataframe tbody tr th {\n",
       "        vertical-align: top;\n",
       "    }\n",
       "\n",
       "    .dataframe thead th {\n",
       "        text-align: right;\n",
       "    }\n",
       "</style>\n",
       "<table border=\"1\" class=\"dataframe\">\n",
       "  <thead>\n",
       "    <tr style=\"text-align: right;\">\n",
       "      <th></th>\n",
       "      <th></th>\n",
       "      <th>postulacion</th>\n",
       "    </tr>\n",
       "    <tr>\n",
       "      <th>idpostulante</th>\n",
       "      <th>idaviso</th>\n",
       "      <th></th>\n",
       "    </tr>\n",
       "  </thead>\n",
       "  <tbody>\n",
       "    <tr>\n",
       "      <th rowspan=\"2\" valign=\"top\">0z5Dmrd</th>\n",
       "      <th>1112384041</th>\n",
       "      <td>1</td>\n",
       "    </tr>\n",
       "    <tr>\n",
       "      <th>1112420060</th>\n",
       "      <td>1</td>\n",
       "    </tr>\n",
       "    <tr>\n",
       "      <th rowspan=\"3\" valign=\"top\">0z5JW1r</th>\n",
       "      <th>1112257171</th>\n",
       "      <td>1</td>\n",
       "    </tr>\n",
       "    <tr>\n",
       "      <th>1112281879</th>\n",
       "      <td>1</td>\n",
       "    </tr>\n",
       "    <tr>\n",
       "      <th>1112292169</th>\n",
       "      <td>1</td>\n",
       "    </tr>\n",
       "  </tbody>\n",
       "</table>\n",
       "</div>"
      ],
      "text/plain": [
       "                         postulacion\n",
       "idpostulante idaviso                \n",
       "0z5Dmrd      1112384041            1\n",
       "             1112420060            1\n",
       "0z5JW1r      1112257171            1\n",
       "             1112281879            1\n",
       "             1112292169            1"
      ]
     },
     "execution_count": 307,
     "metadata": {},
     "output_type": "execute_result"
    }
   ],
   "source": [
    "postulantes_df.head()"
   ]
  },
  {
   "cell_type": "code",
   "execution_count": 308,
   "metadata": {},
   "outputs": [],
   "source": [
    "postulantes_df.reset_index(inplace=True)"
   ]
  },
  {
   "cell_type": "code",
   "execution_count": 309,
   "metadata": {},
   "outputs": [
    {
     "data": {
      "text/html": [
       "<div>\n",
       "<style scoped>\n",
       "    .dataframe tbody tr th:only-of-type {\n",
       "        vertical-align: middle;\n",
       "    }\n",
       "\n",
       "    .dataframe tbody tr th {\n",
       "        vertical-align: top;\n",
       "    }\n",
       "\n",
       "    .dataframe thead th {\n",
       "        text-align: right;\n",
       "    }\n",
       "</style>\n",
       "<table border=\"1\" class=\"dataframe\">\n",
       "  <thead>\n",
       "    <tr style=\"text-align: right;\">\n",
       "      <th></th>\n",
       "      <th>idpostulante</th>\n",
       "      <th>idaviso</th>\n",
       "      <th>postulacion</th>\n",
       "    </tr>\n",
       "  </thead>\n",
       "  <tbody>\n",
       "    <tr>\n",
       "      <th>0</th>\n",
       "      <td>0z5Dmrd</td>\n",
       "      <td>1112384041</td>\n",
       "      <td>1</td>\n",
       "    </tr>\n",
       "    <tr>\n",
       "      <th>1</th>\n",
       "      <td>0z5Dmrd</td>\n",
       "      <td>1112420060</td>\n",
       "      <td>1</td>\n",
       "    </tr>\n",
       "    <tr>\n",
       "      <th>2</th>\n",
       "      <td>0z5JW1r</td>\n",
       "      <td>1112257171</td>\n",
       "      <td>1</td>\n",
       "    </tr>\n",
       "    <tr>\n",
       "      <th>3</th>\n",
       "      <td>0z5JW1r</td>\n",
       "      <td>1112281879</td>\n",
       "      <td>1</td>\n",
       "    </tr>\n",
       "    <tr>\n",
       "      <th>4</th>\n",
       "      <td>0z5JW1r</td>\n",
       "      <td>1112292169</td>\n",
       "      <td>1</td>\n",
       "    </tr>\n",
       "  </tbody>\n",
       "</table>\n",
       "</div>"
      ],
      "text/plain": [
       "  idpostulante     idaviso  postulacion\n",
       "0      0z5Dmrd  1112384041            1\n",
       "1      0z5Dmrd  1112420060            1\n",
       "2      0z5JW1r  1112257171            1\n",
       "3      0z5JW1r  1112281879            1\n",
       "4      0z5JW1r  1112292169            1"
      ]
     },
     "execution_count": 309,
     "metadata": {},
     "output_type": "execute_result"
    }
   ],
   "source": [
    "postulantes_df.head()"
   ]
  },
  {
   "cell_type": "code",
   "execution_count": 310,
   "metadata": {},
   "outputs": [
    {
     "data": {
      "text/plain": [
       "(18695,)"
      ]
     },
     "execution_count": 310,
     "metadata": {},
     "output_type": "execute_result"
    }
   ],
   "source": [
    "postulantes_df.idaviso.unique().shape"
   ]
  },
  {
   "cell_type": "code",
   "execution_count": 311,
   "metadata": {},
   "outputs": [
    {
     "data": {
      "text/plain": [
       "(25288,)"
      ]
     },
     "execution_count": 311,
     "metadata": {},
     "output_type": "execute_result"
    }
   ],
   "source": [
    "avisos_detalle_df['idaviso'].unique().shape"
   ]
  },
  {
   "cell_type": "code",
   "execution_count": 312,
   "metadata": {},
   "outputs": [],
   "source": [
    "#Armado de NO postulaciones\n",
    "\n",
    "#Verificar que las listas utilizadas sean las correctas. Estamos usando solo avisos con postulacion.\n",
    "\n",
    "#¿Podriamos usar los avisos que no tienen postulacion?\n",
    "\n",
    "\n",
    "lista = []\n",
    "user_list = postulantes_filtrados_df['idpostulante'].unique() #Utilizo a todos los usuarios. \n",
    "aviso_list = avisos_detalle_df['idaviso'].unique() #Utilizo todos los avisos.\n",
    "index = 1\n",
    "for n in range(10000):\n",
    "    for i in range(500):\n",
    "        user_index = random.randint(0,504371)\n",
    "        aviso_index = random.randint(0,25287)\n",
    "        lista.append((index,user_list[user_index],aviso_list[aviso_index],0))\n",
    "        index+=1\n",
    "        "
   ]
  },
  {
   "cell_type": "code",
   "execution_count": 313,
   "metadata": {},
   "outputs": [],
   "source": [
    "no_postulantes_df = pd.DataFrame(lista)"
   ]
  },
  {
   "cell_type": "code",
   "execution_count": 314,
   "metadata": {},
   "outputs": [],
   "source": [
    "#postulantes_filtrados_df=0\n",
    "#avisos_detalle_df= 0\n",
    "#avisos_detalle_filtrados_df=0\n",
    "#avisos_online_df=0\n",
    "#postulaciones_df=0\n",
    "lista=0"
   ]
  },
  {
   "cell_type": "code",
   "execution_count": 315,
   "metadata": {},
   "outputs": [
    {
     "data": {
      "text/plain": [
       "438943469"
      ]
     },
     "execution_count": 315,
     "metadata": {},
     "output_type": "execute_result"
    }
   ],
   "source": [
    "no_postulantes_df.memory_usage(deep=True).sum()"
   ]
  },
  {
   "cell_type": "code",
   "execution_count": 316,
   "metadata": {},
   "outputs": [
    {
     "data": {
      "text/html": [
       "<div>\n",
       "<style scoped>\n",
       "    .dataframe tbody tr th:only-of-type {\n",
       "        vertical-align: middle;\n",
       "    }\n",
       "\n",
       "    .dataframe tbody tr th {\n",
       "        vertical-align: top;\n",
       "    }\n",
       "\n",
       "    .dataframe thead th {\n",
       "        text-align: right;\n",
       "    }\n",
       "</style>\n",
       "<table border=\"1\" class=\"dataframe\">\n",
       "  <thead>\n",
       "    <tr style=\"text-align: right;\">\n",
       "      <th></th>\n",
       "      <th>0</th>\n",
       "      <th>1</th>\n",
       "      <th>2</th>\n",
       "      <th>3</th>\n",
       "    </tr>\n",
       "  </thead>\n",
       "  <tbody>\n",
       "    <tr>\n",
       "      <th>0</th>\n",
       "      <td>1</td>\n",
       "      <td>xkPJvDP</td>\n",
       "      <td>1761070</td>\n",
       "      <td>0</td>\n",
       "    </tr>\n",
       "    <tr>\n",
       "      <th>1</th>\n",
       "      <td>2</td>\n",
       "      <td>0zB6NRY</td>\n",
       "      <td>1112277179</td>\n",
       "      <td>0</td>\n",
       "    </tr>\n",
       "    <tr>\n",
       "      <th>2</th>\n",
       "      <td>3</td>\n",
       "      <td>19GkAb</td>\n",
       "      <td>1112313343</td>\n",
       "      <td>0</td>\n",
       "    </tr>\n",
       "    <tr>\n",
       "      <th>3</th>\n",
       "      <td>4</td>\n",
       "      <td>xkvEzjV</td>\n",
       "      <td>1111190024</td>\n",
       "      <td>0</td>\n",
       "    </tr>\n",
       "    <tr>\n",
       "      <th>4</th>\n",
       "      <td>5</td>\n",
       "      <td>RzMJDkO</td>\n",
       "      <td>1112121058</td>\n",
       "      <td>0</td>\n",
       "    </tr>\n",
       "  </tbody>\n",
       "</table>\n",
       "</div>"
      ],
      "text/plain": [
       "   0        1           2  3\n",
       "0  1  xkPJvDP     1761070  0\n",
       "1  2  0zB6NRY  1112277179  0\n",
       "2  3   19GkAb  1112313343  0\n",
       "3  4  xkvEzjV  1111190024  0\n",
       "4  5  RzMJDkO  1112121058  0"
      ]
     },
     "execution_count": 316,
     "metadata": {},
     "output_type": "execute_result"
    }
   ],
   "source": [
    "no_postulantes_df.head()"
   ]
  },
  {
   "cell_type": "code",
   "execution_count": 317,
   "metadata": {},
   "outputs": [],
   "source": [
    "no_postulantes_df.drop(0,axis='columns',inplace=True)"
   ]
  },
  {
   "cell_type": "code",
   "execution_count": 318,
   "metadata": {},
   "outputs": [
    {
     "data": {
      "text/html": [
       "<div>\n",
       "<style scoped>\n",
       "    .dataframe tbody tr th:only-of-type {\n",
       "        vertical-align: middle;\n",
       "    }\n",
       "\n",
       "    .dataframe tbody tr th {\n",
       "        vertical-align: top;\n",
       "    }\n",
       "\n",
       "    .dataframe thead th {\n",
       "        text-align: right;\n",
       "    }\n",
       "</style>\n",
       "<table border=\"1\" class=\"dataframe\">\n",
       "  <thead>\n",
       "    <tr style=\"text-align: right;\">\n",
       "      <th></th>\n",
       "      <th>1</th>\n",
       "      <th>2</th>\n",
       "      <th>3</th>\n",
       "    </tr>\n",
       "  </thead>\n",
       "  <tbody>\n",
       "    <tr>\n",
       "      <th>0</th>\n",
       "      <td>xkPJvDP</td>\n",
       "      <td>1761070</td>\n",
       "      <td>0</td>\n",
       "    </tr>\n",
       "    <tr>\n",
       "      <th>1</th>\n",
       "      <td>0zB6NRY</td>\n",
       "      <td>1112277179</td>\n",
       "      <td>0</td>\n",
       "    </tr>\n",
       "    <tr>\n",
       "      <th>2</th>\n",
       "      <td>19GkAb</td>\n",
       "      <td>1112313343</td>\n",
       "      <td>0</td>\n",
       "    </tr>\n",
       "    <tr>\n",
       "      <th>3</th>\n",
       "      <td>xkvEzjV</td>\n",
       "      <td>1111190024</td>\n",
       "      <td>0</td>\n",
       "    </tr>\n",
       "    <tr>\n",
       "      <th>4</th>\n",
       "      <td>RzMJDkO</td>\n",
       "      <td>1112121058</td>\n",
       "      <td>0</td>\n",
       "    </tr>\n",
       "  </tbody>\n",
       "</table>\n",
       "</div>"
      ],
      "text/plain": [
       "         1           2  3\n",
       "0  xkPJvDP     1761070  0\n",
       "1  0zB6NRY  1112277179  0\n",
       "2   19GkAb  1112313343  0\n",
       "3  xkvEzjV  1111190024  0\n",
       "4  RzMJDkO  1112121058  0"
      ]
     },
     "execution_count": 318,
     "metadata": {},
     "output_type": "execute_result"
    }
   ],
   "source": [
    "no_postulantes_df.head()"
   ]
  },
  {
   "cell_type": "code",
   "execution_count": 319,
   "metadata": {},
   "outputs": [],
   "source": [
    "no_postulantes_df.columns= ['idpostulante','idaviso','postulacion']"
   ]
  },
  {
   "cell_type": "code",
   "execution_count": 320,
   "metadata": {},
   "outputs": [
    {
     "data": {
      "text/plain": [
       "(5000000, 3)"
      ]
     },
     "execution_count": 320,
     "metadata": {},
     "output_type": "execute_result"
    }
   ],
   "source": [
    "no_postulantes_df.shape"
   ]
  },
  {
   "cell_type": "code",
   "execution_count": 321,
   "metadata": {},
   "outputs": [
    {
     "data": {
      "text/html": [
       "<div>\n",
       "<style scoped>\n",
       "    .dataframe tbody tr th:only-of-type {\n",
       "        vertical-align: middle;\n",
       "    }\n",
       "\n",
       "    .dataframe tbody tr th {\n",
       "        vertical-align: top;\n",
       "    }\n",
       "\n",
       "    .dataframe thead th {\n",
       "        text-align: right;\n",
       "    }\n",
       "</style>\n",
       "<table border=\"1\" class=\"dataframe\">\n",
       "  <thead>\n",
       "    <tr style=\"text-align: right;\">\n",
       "      <th></th>\n",
       "      <th>idpostulante</th>\n",
       "      <th>idaviso</th>\n",
       "      <th>postulacion</th>\n",
       "    </tr>\n",
       "  </thead>\n",
       "  <tbody>\n",
       "    <tr>\n",
       "      <th>0</th>\n",
       "      <td>xkPJvDP</td>\n",
       "      <td>1761070</td>\n",
       "      <td>0</td>\n",
       "    </tr>\n",
       "    <tr>\n",
       "      <th>1</th>\n",
       "      <td>0zB6NRY</td>\n",
       "      <td>1112277179</td>\n",
       "      <td>0</td>\n",
       "    </tr>\n",
       "    <tr>\n",
       "      <th>2</th>\n",
       "      <td>19GkAb</td>\n",
       "      <td>1112313343</td>\n",
       "      <td>0</td>\n",
       "    </tr>\n",
       "    <tr>\n",
       "      <th>3</th>\n",
       "      <td>xkvEzjV</td>\n",
       "      <td>1111190024</td>\n",
       "      <td>0</td>\n",
       "    </tr>\n",
       "    <tr>\n",
       "      <th>4</th>\n",
       "      <td>RzMJDkO</td>\n",
       "      <td>1112121058</td>\n",
       "      <td>0</td>\n",
       "    </tr>\n",
       "  </tbody>\n",
       "</table>\n",
       "</div>"
      ],
      "text/plain": [
       "  idpostulante     idaviso  postulacion\n",
       "0      xkPJvDP     1761070            0\n",
       "1      0zB6NRY  1112277179            0\n",
       "2       19GkAb  1112313343            0\n",
       "3      xkvEzjV  1111190024            0\n",
       "4      RzMJDkO  1112121058            0"
      ]
     },
     "execution_count": 321,
     "metadata": {},
     "output_type": "execute_result"
    }
   ],
   "source": [
    "no_postulantes_df.head()"
   ]
  },
  {
   "cell_type": "code",
   "execution_count": 322,
   "metadata": {},
   "outputs": [
    {
     "data": {
      "text/html": [
       "<div>\n",
       "<style scoped>\n",
       "    .dataframe tbody tr th:only-of-type {\n",
       "        vertical-align: middle;\n",
       "    }\n",
       "\n",
       "    .dataframe tbody tr th {\n",
       "        vertical-align: top;\n",
       "    }\n",
       "\n",
       "    .dataframe thead th {\n",
       "        text-align: right;\n",
       "    }\n",
       "</style>\n",
       "<table border=\"1\" class=\"dataframe\">\n",
       "  <thead>\n",
       "    <tr style=\"text-align: right;\">\n",
       "      <th></th>\n",
       "      <th>idpostulante</th>\n",
       "      <th>idaviso</th>\n",
       "      <th>postulacion</th>\n",
       "    </tr>\n",
       "  </thead>\n",
       "  <tbody>\n",
       "    <tr>\n",
       "      <th>0</th>\n",
       "      <td>0z5Dmrd</td>\n",
       "      <td>1112384041</td>\n",
       "      <td>1</td>\n",
       "    </tr>\n",
       "    <tr>\n",
       "      <th>1</th>\n",
       "      <td>0z5Dmrd</td>\n",
       "      <td>1112420060</td>\n",
       "      <td>1</td>\n",
       "    </tr>\n",
       "    <tr>\n",
       "      <th>2</th>\n",
       "      <td>0z5JW1r</td>\n",
       "      <td>1112257171</td>\n",
       "      <td>1</td>\n",
       "    </tr>\n",
       "    <tr>\n",
       "      <th>3</th>\n",
       "      <td>0z5JW1r</td>\n",
       "      <td>1112281879</td>\n",
       "      <td>1</td>\n",
       "    </tr>\n",
       "    <tr>\n",
       "      <th>4</th>\n",
       "      <td>0z5JW1r</td>\n",
       "      <td>1112292169</td>\n",
       "      <td>1</td>\n",
       "    </tr>\n",
       "  </tbody>\n",
       "</table>\n",
       "</div>"
      ],
      "text/plain": [
       "  idpostulante     idaviso  postulacion\n",
       "0      0z5Dmrd  1112384041            1\n",
       "1      0z5Dmrd  1112420060            1\n",
       "2      0z5JW1r  1112257171            1\n",
       "3      0z5JW1r  1112281879            1\n",
       "4      0z5JW1r  1112292169            1"
      ]
     },
     "execution_count": 322,
     "metadata": {},
     "output_type": "execute_result"
    }
   ],
   "source": [
    "postulantes_df.head()"
   ]
  },
  {
   "cell_type": "code",
   "execution_count": 323,
   "metadata": {},
   "outputs": [],
   "source": [
    "#Junto el dataframe donde tengo los postulantes con el aviso al que se postularon\n",
    "#Con el dataframe generado al azar.\n",
    "entrenamiento_df = no_postulantes_df.merge(postulantes_df,how='outer',on=['idpostulante','idaviso'])"
   ]
  },
  {
   "cell_type": "code",
   "execution_count": 324,
   "metadata": {},
   "outputs": [
    {
     "data": {
      "text/html": [
       "<div>\n",
       "<style scoped>\n",
       "    .dataframe tbody tr th:only-of-type {\n",
       "        vertical-align: middle;\n",
       "    }\n",
       "\n",
       "    .dataframe tbody tr th {\n",
       "        vertical-align: top;\n",
       "    }\n",
       "\n",
       "    .dataframe thead th {\n",
       "        text-align: right;\n",
       "    }\n",
       "</style>\n",
       "<table border=\"1\" class=\"dataframe\">\n",
       "  <thead>\n",
       "    <tr style=\"text-align: right;\">\n",
       "      <th></th>\n",
       "      <th>idpostulante</th>\n",
       "      <th>idaviso</th>\n",
       "      <th>postulacion_x</th>\n",
       "      <th>postulacion_y</th>\n",
       "    </tr>\n",
       "  </thead>\n",
       "  <tbody>\n",
       "    <tr>\n",
       "      <th>0</th>\n",
       "      <td>xkPJvDP</td>\n",
       "      <td>1761070</td>\n",
       "      <td>0.0</td>\n",
       "      <td>NaN</td>\n",
       "    </tr>\n",
       "    <tr>\n",
       "      <th>1</th>\n",
       "      <td>0zB6NRY</td>\n",
       "      <td>1112277179</td>\n",
       "      <td>0.0</td>\n",
       "      <td>NaN</td>\n",
       "    </tr>\n",
       "    <tr>\n",
       "      <th>2</th>\n",
       "      <td>19GkAb</td>\n",
       "      <td>1112313343</td>\n",
       "      <td>0.0</td>\n",
       "      <td>NaN</td>\n",
       "    </tr>\n",
       "    <tr>\n",
       "      <th>3</th>\n",
       "      <td>xkvEzjV</td>\n",
       "      <td>1111190024</td>\n",
       "      <td>0.0</td>\n",
       "      <td>NaN</td>\n",
       "    </tr>\n",
       "    <tr>\n",
       "      <th>4</th>\n",
       "      <td>RzMJDkO</td>\n",
       "      <td>1112121058</td>\n",
       "      <td>0.0</td>\n",
       "      <td>NaN</td>\n",
       "    </tr>\n",
       "  </tbody>\n",
       "</table>\n",
       "</div>"
      ],
      "text/plain": [
       "  idpostulante     idaviso  postulacion_x  postulacion_y\n",
       "0      xkPJvDP     1761070            0.0            NaN\n",
       "1      0zB6NRY  1112277179            0.0            NaN\n",
       "2       19GkAb  1112313343            0.0            NaN\n",
       "3      xkvEzjV  1111190024            0.0            NaN\n",
       "4      RzMJDkO  1112121058            0.0            NaN"
      ]
     },
     "execution_count": 324,
     "metadata": {},
     "output_type": "execute_result"
    }
   ],
   "source": [
    "entrenamiento_df.head()"
   ]
  },
  {
   "cell_type": "code",
   "execution_count": 325,
   "metadata": {},
   "outputs": [],
   "source": [
    "entrenamiento_df['postulacion_x'].fillna(0,inplace=True)\n",
    "entrenamiento_df['postulacion_y'].fillna(0,inplace=True)"
   ]
  },
  {
   "cell_type": "code",
   "execution_count": 326,
   "metadata": {},
   "outputs": [],
   "source": [
    "entrenamiento_df['postulacion'] = entrenamiento_df['postulacion_x'] + entrenamiento_df['postulacion_y']"
   ]
  },
  {
   "cell_type": "code",
   "execution_count": 327,
   "metadata": {},
   "outputs": [
    {
     "data": {
      "text/html": [
       "<div>\n",
       "<style scoped>\n",
       "    .dataframe tbody tr th:only-of-type {\n",
       "        vertical-align: middle;\n",
       "    }\n",
       "\n",
       "    .dataframe tbody tr th {\n",
       "        vertical-align: top;\n",
       "    }\n",
       "\n",
       "    .dataframe thead th {\n",
       "        text-align: right;\n",
       "    }\n",
       "</style>\n",
       "<table border=\"1\" class=\"dataframe\">\n",
       "  <thead>\n",
       "    <tr style=\"text-align: right;\">\n",
       "      <th></th>\n",
       "      <th>idpostulante</th>\n",
       "      <th>idaviso</th>\n",
       "      <th>postulacion_x</th>\n",
       "      <th>postulacion_y</th>\n",
       "      <th>postulacion</th>\n",
       "    </tr>\n",
       "  </thead>\n",
       "  <tbody>\n",
       "    <tr>\n",
       "      <th>0</th>\n",
       "      <td>xkPJvDP</td>\n",
       "      <td>1761070</td>\n",
       "      <td>0.0</td>\n",
       "      <td>0.0</td>\n",
       "      <td>0.0</td>\n",
       "    </tr>\n",
       "    <tr>\n",
       "      <th>1</th>\n",
       "      <td>0zB6NRY</td>\n",
       "      <td>1112277179</td>\n",
       "      <td>0.0</td>\n",
       "      <td>0.0</td>\n",
       "      <td>0.0</td>\n",
       "    </tr>\n",
       "    <tr>\n",
       "      <th>2</th>\n",
       "      <td>19GkAb</td>\n",
       "      <td>1112313343</td>\n",
       "      <td>0.0</td>\n",
       "      <td>0.0</td>\n",
       "      <td>0.0</td>\n",
       "    </tr>\n",
       "    <tr>\n",
       "      <th>3</th>\n",
       "      <td>xkvEzjV</td>\n",
       "      <td>1111190024</td>\n",
       "      <td>0.0</td>\n",
       "      <td>0.0</td>\n",
       "      <td>0.0</td>\n",
       "    </tr>\n",
       "    <tr>\n",
       "      <th>4</th>\n",
       "      <td>RzMJDkO</td>\n",
       "      <td>1112121058</td>\n",
       "      <td>0.0</td>\n",
       "      <td>0.0</td>\n",
       "      <td>0.0</td>\n",
       "    </tr>\n",
       "  </tbody>\n",
       "</table>\n",
       "</div>"
      ],
      "text/plain": [
       "  idpostulante     idaviso  postulacion_x  postulacion_y  postulacion\n",
       "0      xkPJvDP     1761070            0.0            0.0          0.0\n",
       "1      0zB6NRY  1112277179            0.0            0.0          0.0\n",
       "2       19GkAb  1112313343            0.0            0.0          0.0\n",
       "3      xkvEzjV  1111190024            0.0            0.0          0.0\n",
       "4      RzMJDkO  1112121058            0.0            0.0          0.0"
      ]
     },
     "execution_count": 327,
     "metadata": {},
     "output_type": "execute_result"
    }
   ],
   "source": [
    "entrenamiento_df.head()"
   ]
  },
  {
   "cell_type": "code",
   "execution_count": 328,
   "metadata": {},
   "outputs": [],
   "source": [
    " entrenamiento_df.drop(['postulacion_x','postulacion_y'],axis='columns',inplace=True)"
   ]
  },
  {
   "cell_type": "code",
   "execution_count": 329,
   "metadata": {},
   "outputs": [
    {
     "data": {
      "text/plain": [
       "1    6187829\n",
       "0    4997584\n",
       "Name: postulacion, dtype: int64"
      ]
     },
     "execution_count": 329,
     "metadata": {},
     "output_type": "execute_result"
    }
   ],
   "source": [
    "entrenamiento_df['postulacion'] = pd.Categorical(entrenamiento_df['postulacion'])\n",
    "entrenamiento_df['postulacion'] = entrenamiento_df['postulacion'].cat.codes\n",
    "entrenamiento_df['postulacion'].value_counts()"
   ]
  },
  {
   "cell_type": "code",
   "execution_count": 330,
   "metadata": {},
   "outputs": [
    {
     "data": {
      "text/html": [
       "<div>\n",
       "<style scoped>\n",
       "    .dataframe tbody tr th:only-of-type {\n",
       "        vertical-align: middle;\n",
       "    }\n",
       "\n",
       "    .dataframe tbody tr th {\n",
       "        vertical-align: top;\n",
       "    }\n",
       "\n",
       "    .dataframe thead th {\n",
       "        text-align: right;\n",
       "    }\n",
       "</style>\n",
       "<table border=\"1\" class=\"dataframe\">\n",
       "  <thead>\n",
       "    <tr style=\"text-align: right;\">\n",
       "      <th></th>\n",
       "      <th>idpostulante</th>\n",
       "      <th>idaviso</th>\n",
       "      <th>postulacion</th>\n",
       "    </tr>\n",
       "  </thead>\n",
       "  <tbody>\n",
       "    <tr>\n",
       "      <th>0</th>\n",
       "      <td>xkPJvDP</td>\n",
       "      <td>1761070</td>\n",
       "      <td>0</td>\n",
       "    </tr>\n",
       "    <tr>\n",
       "      <th>1</th>\n",
       "      <td>0zB6NRY</td>\n",
       "      <td>1112277179</td>\n",
       "      <td>0</td>\n",
       "    </tr>\n",
       "    <tr>\n",
       "      <th>2</th>\n",
       "      <td>19GkAb</td>\n",
       "      <td>1112313343</td>\n",
       "      <td>0</td>\n",
       "    </tr>\n",
       "    <tr>\n",
       "      <th>3</th>\n",
       "      <td>xkvEzjV</td>\n",
       "      <td>1111190024</td>\n",
       "      <td>0</td>\n",
       "    </tr>\n",
       "    <tr>\n",
       "      <th>4</th>\n",
       "      <td>RzMJDkO</td>\n",
       "      <td>1112121058</td>\n",
       "      <td>0</td>\n",
       "    </tr>\n",
       "  </tbody>\n",
       "</table>\n",
       "</div>"
      ],
      "text/plain": [
       "  idpostulante     idaviso  postulacion\n",
       "0      xkPJvDP     1761070            0\n",
       "1      0zB6NRY  1112277179            0\n",
       "2       19GkAb  1112313343            0\n",
       "3      xkvEzjV  1111190024            0\n",
       "4      RzMJDkO  1112121058            0"
      ]
     },
     "execution_count": 330,
     "metadata": {},
     "output_type": "execute_result"
    }
   ],
   "source": [
    "# Hasta aca Ya tenemos nuestro formato (id,postulante,aviso,postulacion)\n",
    "entrenamiento_df.head()"
   ]
  },
  {
   "cell_type": "code",
   "execution_count": 331,
   "metadata": {
    "scrolled": true
   },
   "outputs": [
    {
     "data": {
      "text/html": [
       "<div>\n",
       "<style scoped>\n",
       "    .dataframe tbody tr th:only-of-type {\n",
       "        vertical-align: middle;\n",
       "    }\n",
       "\n",
       "    .dataframe tbody tr th {\n",
       "        vertical-align: top;\n",
       "    }\n",
       "\n",
       "    .dataframe thead th {\n",
       "        text-align: right;\n",
       "    }\n",
       "</style>\n",
       "<table border=\"1\" class=\"dataframe\">\n",
       "  <thead>\n",
       "    <tr style=\"text-align: right;\">\n",
       "      <th></th>\n",
       "      <th>idpostulante</th>\n",
       "      <th>idaviso</th>\n",
       "      <th>postulacion</th>\n",
       "    </tr>\n",
       "  </thead>\n",
       "  <tbody>\n",
       "    <tr>\n",
       "      <th>11185408</th>\n",
       "      <td>zvxzrWm</td>\n",
       "      <td>1112438823</td>\n",
       "      <td>1</td>\n",
       "    </tr>\n",
       "    <tr>\n",
       "      <th>11185409</th>\n",
       "      <td>zvxzrWm</td>\n",
       "      <td>1112442213</td>\n",
       "      <td>1</td>\n",
       "    </tr>\n",
       "    <tr>\n",
       "      <th>11185410</th>\n",
       "      <td>zvxzrWm</td>\n",
       "      <td>1112445486</td>\n",
       "      <td>1</td>\n",
       "    </tr>\n",
       "    <tr>\n",
       "      <th>11185411</th>\n",
       "      <td>zvxzrWm</td>\n",
       "      <td>1112448822</td>\n",
       "      <td>1</td>\n",
       "    </tr>\n",
       "    <tr>\n",
       "      <th>11185412</th>\n",
       "      <td>zvxzrWm</td>\n",
       "      <td>1112455515</td>\n",
       "      <td>1</td>\n",
       "    </tr>\n",
       "  </tbody>\n",
       "</table>\n",
       "</div>"
      ],
      "text/plain": [
       "         idpostulante     idaviso  postulacion\n",
       "11185408      zvxzrWm  1112438823            1\n",
       "11185409      zvxzrWm  1112442213            1\n",
       "11185410      zvxzrWm  1112445486            1\n",
       "11185411      zvxzrWm  1112448822            1\n",
       "11185412      zvxzrWm  1112455515            1"
      ]
     },
     "execution_count": 331,
     "metadata": {},
     "output_type": "execute_result"
    }
   ],
   "source": [
    "entrenamiento_df.tail()"
   ]
  },
  {
   "cell_type": "code",
   "execution_count": 332,
   "metadata": {
    "scrolled": true
   },
   "outputs": [
    {
     "data": {
      "text/plain": [
       "(25288,)"
      ]
     },
     "execution_count": 332,
     "metadata": {},
     "output_type": "execute_result"
    }
   ],
   "source": [
    "entrenamiento_df.idaviso.unique().shape"
   ]
  },
  {
   "cell_type": "code",
   "execution_count": 333,
   "metadata": {},
   "outputs": [
    {
     "data": {
      "text/plain": [
       "(25288,)"
      ]
     },
     "execution_count": 333,
     "metadata": {},
     "output_type": "execute_result"
    }
   ],
   "source": [
    "avisos_detalle_df.idaviso.unique().shape"
   ]
  },
  {
   "cell_type": "markdown",
   "metadata": {},
   "source": [
    "# Armo la Matriz de Features"
   ]
  },
  {
   "cell_type": "code",
   "execution_count": 334,
   "metadata": {},
   "outputs": [],
   "source": [
    "matrix_df = entrenamiento_df.merge(avisos_detalle_df,how='inner',on='idaviso')"
   ]
  },
  {
   "cell_type": "code",
   "execution_count": 335,
   "metadata": {},
   "outputs": [
    {
     "data": {
      "text/plain": [
       "(11185413,)"
      ]
     },
     "execution_count": 335,
     "metadata": {},
     "output_type": "execute_result"
    }
   ],
   "source": [
    "matrix_df.idaviso.shape"
   ]
  },
  {
   "cell_type": "code",
   "execution_count": 336,
   "metadata": {
    "scrolled": true
   },
   "outputs": [
    {
     "data": {
      "text/plain": [
       "True"
      ]
     },
     "execution_count": 336,
     "metadata": {},
     "output_type": "execute_result"
    }
   ],
   "source": [
    "#Deberian ser iguales.\n",
    "matrix_df.shape[0] == entrenamiento_df.shape[0]"
   ]
  },
  {
   "cell_type": "code",
   "execution_count": 337,
   "metadata": {},
   "outputs": [],
   "source": [
    "matrix_df = matrix_df.merge(postulantes_filtrados_df,how='inner',on='idpostulante')"
   ]
  },
  {
   "cell_type": "code",
   "execution_count": 338,
   "metadata": {},
   "outputs": [
    {
     "data": {
      "text/plain": [
       "True"
      ]
     },
     "execution_count": 338,
     "metadata": {},
     "output_type": "execute_result"
    }
   ],
   "source": [
    "#Deberian ser iguales.\n",
    "matrix_df.shape[0] == entrenamiento_df.shape[0]"
   ]
  },
  {
   "cell_type": "code",
   "execution_count": 339,
   "metadata": {},
   "outputs": [],
   "source": [
    "#Me quedo con el indice como \"id\" de la tupla postulante-aviso.\n",
    "matrix_df.drop(columns=['idpostulante','idaviso'],axis=1,inplace=True)"
   ]
  },
  {
   "cell_type": "code",
   "execution_count": 340,
   "metadata": {},
   "outputs": [
    {
     "data": {
      "text/html": [
       "<div>\n",
       "<style scoped>\n",
       "    .dataframe tbody tr th:only-of-type {\n",
       "        vertical-align: middle;\n",
       "    }\n",
       "\n",
       "    .dataframe tbody tr th {\n",
       "        vertical-align: top;\n",
       "    }\n",
       "\n",
       "    .dataframe thead th {\n",
       "        text-align: right;\n",
       "    }\n",
       "</style>\n",
       "<table border=\"1\" class=\"dataframe\">\n",
       "  <thead>\n",
       "    <tr style=\"text-align: right;\">\n",
       "      <th></th>\n",
       "      <th>postulacion</th>\n",
       "      <th>idpais</th>\n",
       "      <th>titulo</th>\n",
       "      <th>descripcion</th>\n",
       "      <th>nombre_zona</th>\n",
       "      <th>ciudad</th>\n",
       "      <th>mapacalle</th>\n",
       "      <th>tipo_de_trabajo</th>\n",
       "      <th>nivel_laboral</th>\n",
       "      <th>nombre_area</th>\n",
       "      <th>denominacion_empresa</th>\n",
       "      <th>sexo</th>\n",
       "      <th>nombre</th>\n",
       "      <th>estado</th>\n",
       "      <th>edad</th>\n",
       "    </tr>\n",
       "  </thead>\n",
       "  <tbody>\n",
       "    <tr>\n",
       "      <th>0</th>\n",
       "      <td>0</td>\n",
       "      <td>1</td>\n",
       "      <td>Project Engineer</td>\n",
       "      <td>Importante empresa multinacional, seleccionará...</td>\n",
       "      <td>Capital Federal</td>\n",
       "      <td>NaN</td>\n",
       "      <td>NaN</td>\n",
       "      <td>Full-time</td>\n",
       "      <td>Otro</td>\n",
       "      <td>Tecnologia / Sistemas</td>\n",
       "      <td>Experis</td>\n",
       "      <td>2</td>\n",
       "      <td>7</td>\n",
       "      <td>1</td>\n",
       "      <td>25</td>\n",
       "    </tr>\n",
       "    <tr>\n",
       "      <th>1</th>\n",
       "      <td>1</td>\n",
       "      <td>1</td>\n",
       "      <td>Representante de atención telefónica con perfi...</td>\n",
       "      <td>&lt;p&gt;Importante empresa del rubro telecomunicaci...</td>\n",
       "      <td>Gran Buenos Aires</td>\n",
       "      <td>NaN</td>\n",
       "      <td>NaN</td>\n",
       "      <td>Part-time</td>\n",
       "      <td>Junior</td>\n",
       "      <td>Comercial</td>\n",
       "      <td>ACC Group</td>\n",
       "      <td>2</td>\n",
       "      <td>7</td>\n",
       "      <td>1</td>\n",
       "      <td>25</td>\n",
       "    </tr>\n",
       "    <tr>\n",
       "      <th>2</th>\n",
       "      <td>0</td>\n",
       "      <td>1</td>\n",
       "      <td>REPRESENTANTE DE TRADE MARKETING -Canal Farmac...</td>\n",
       "      <td>&lt;p&gt;Estamos buscando Representantes de &lt;strong&gt;...</td>\n",
       "      <td>Gran Buenos Aires</td>\n",
       "      <td>NaN</td>\n",
       "      <td>NaN</td>\n",
       "      <td>Full-time</td>\n",
       "      <td>Otro</td>\n",
       "      <td>Marketing</td>\n",
       "      <td>Proven Group</td>\n",
       "      <td>2</td>\n",
       "      <td>7</td>\n",
       "      <td>1</td>\n",
       "      <td>25</td>\n",
       "    </tr>\n",
       "    <tr>\n",
       "      <th>3</th>\n",
       "      <td>1</td>\n",
       "      <td>1</td>\n",
       "      <td>Atención al Cliente Corporativo Z/ Capital Fed...</td>\n",
       "      <td>&lt;p&gt;Para importante compañía del rubro logístic...</td>\n",
       "      <td>Gran Buenos Aires</td>\n",
       "      <td>NaN</td>\n",
       "      <td>NaN</td>\n",
       "      <td>Full-time</td>\n",
       "      <td>Senior / Semi-Senior</td>\n",
       "      <td>Comercial</td>\n",
       "      <td>Assistem</td>\n",
       "      <td>2</td>\n",
       "      <td>7</td>\n",
       "      <td>1</td>\n",
       "      <td>25</td>\n",
       "    </tr>\n",
       "    <tr>\n",
       "      <th>4</th>\n",
       "      <td>1</td>\n",
       "      <td>1</td>\n",
       "      <td>Operador telefónico - Atención al Cliente</td>\n",
       "      <td>&lt;p&gt;Importante Empresa se encuentra en la búsqu...</td>\n",
       "      <td>Gran Buenos Aires</td>\n",
       "      <td>NaN</td>\n",
       "      <td>NaN</td>\n",
       "      <td>Full-time</td>\n",
       "      <td>Senior / Semi-Senior</td>\n",
       "      <td>Call Center</td>\n",
       "      <td>M-LAT S.A.</td>\n",
       "      <td>2</td>\n",
       "      <td>7</td>\n",
       "      <td>1</td>\n",
       "      <td>25</td>\n",
       "    </tr>\n",
       "  </tbody>\n",
       "</table>\n",
       "</div>"
      ],
      "text/plain": [
       "   postulacion  idpais                                             titulo  \\\n",
       "0            0       1                                   Project Engineer   \n",
       "1            1       1  Representante de atención telefónica con perfi...   \n",
       "2            0       1  REPRESENTANTE DE TRADE MARKETING -Canal Farmac...   \n",
       "3            1       1  Atención al Cliente Corporativo Z/ Capital Fed...   \n",
       "4            1       1         Operador telefónico - Atención al Cliente    \n",
       "\n",
       "                                         descripcion        nombre_zona  \\\n",
       "0  Importante empresa multinacional, seleccionará...    Capital Federal   \n",
       "1  <p>Importante empresa del rubro telecomunicaci...  Gran Buenos Aires   \n",
       "2  <p>Estamos buscando Representantes de <strong>...  Gran Buenos Aires   \n",
       "3  <p>Para importante compañía del rubro logístic...  Gran Buenos Aires   \n",
       "4  <p>Importante Empresa se encuentra en la búsqu...  Gran Buenos Aires   \n",
       "\n",
       "  ciudad mapacalle tipo_de_trabajo         nivel_laboral  \\\n",
       "0    NaN       NaN       Full-time                  Otro   \n",
       "1    NaN       NaN       Part-time                Junior   \n",
       "2    NaN       NaN       Full-time                  Otro   \n",
       "3    NaN       NaN       Full-time  Senior / Semi-Senior   \n",
       "4    NaN       NaN       Full-time  Senior / Semi-Senior   \n",
       "\n",
       "             nombre_area denominacion_empresa  sexo  nombre  estado  edad  \n",
       "0  Tecnologia / Sistemas              Experis     2       7       1    25  \n",
       "1              Comercial            ACC Group     2       7       1    25  \n",
       "2              Marketing         Proven Group     2       7       1    25  \n",
       "3              Comercial             Assistem     2       7       1    25  \n",
       "4            Call Center           M-LAT S.A.     2       7       1    25  "
      ]
     },
     "execution_count": 340,
     "metadata": {},
     "output_type": "execute_result"
    }
   ],
   "source": [
    "matrix_df.head()"
   ]
  },
  {
   "cell_type": "markdown",
   "metadata": {},
   "source": [
    "# Me fijo si las vistas implican una no postulacion"
   ]
  },
  {
   "cell_type": "code",
   "execution_count": 341,
   "metadata": {
    "scrolled": true
   },
   "outputs": [
    {
     "data": {
      "text/html": [
       "<div>\n",
       "<style scoped>\n",
       "    .dataframe tbody tr th:only-of-type {\n",
       "        vertical-align: middle;\n",
       "    }\n",
       "\n",
       "    .dataframe tbody tr th {\n",
       "        vertical-align: top;\n",
       "    }\n",
       "\n",
       "    .dataframe thead th {\n",
       "        text-align: right;\n",
       "    }\n",
       "</style>\n",
       "<table border=\"1\" class=\"dataframe\">\n",
       "  <thead>\n",
       "    <tr style=\"text-align: right;\">\n",
       "      <th></th>\n",
       "      <th>idAviso</th>\n",
       "      <th>timestamp</th>\n",
       "      <th>idpostulante</th>\n",
       "    </tr>\n",
       "  </thead>\n",
       "  <tbody>\n",
       "    <tr>\n",
       "      <th>0</th>\n",
       "      <td>1112400775</td>\n",
       "      <td>2018-04-06T01:43:47.445-0400</td>\n",
       "      <td>kPjr2K0</td>\n",
       "    </tr>\n",
       "    <tr>\n",
       "      <th>1</th>\n",
       "      <td>1112400775</td>\n",
       "      <td>2018-04-06T01:43:48.330-0400</td>\n",
       "      <td>kPjr2K0</td>\n",
       "    </tr>\n",
       "    <tr>\n",
       "      <th>2</th>\n",
       "      <td>1112426664</td>\n",
       "      <td>2018-04-06T01:43:50.042-0400</td>\n",
       "      <td>GNOwZmb</td>\n",
       "    </tr>\n",
       "    <tr>\n",
       "      <th>3</th>\n",
       "      <td>1112426664</td>\n",
       "      <td>2018-04-06T01:43:51.171-0400</td>\n",
       "      <td>GNOwZmb</td>\n",
       "    </tr>\n",
       "    <tr>\n",
       "      <th>4</th>\n",
       "      <td>1112445738</td>\n",
       "      <td>2018-04-06T01:43:46.371-0400</td>\n",
       "      <td>lDLxajz</td>\n",
       "    </tr>\n",
       "  </tbody>\n",
       "</table>\n",
       "</div>"
      ],
      "text/plain": [
       "      idAviso                     timestamp idpostulante\n",
       "0  1112400775  2018-04-06T01:43:47.445-0400      kPjr2K0\n",
       "1  1112400775  2018-04-06T01:43:48.330-0400      kPjr2K0\n",
       "2  1112426664  2018-04-06T01:43:50.042-0400      GNOwZmb\n",
       "3  1112426664  2018-04-06T01:43:51.171-0400      GNOwZmb\n",
       "4  1112445738  2018-04-06T01:43:46.371-0400      lDLxajz"
      ]
     },
     "execution_count": 341,
     "metadata": {},
     "output_type": "execute_result"
    }
   ],
   "source": [
    "vistas_df.head()"
   ]
  },
  {
   "cell_type": "code",
   "execution_count": 342,
   "metadata": {},
   "outputs": [],
   "source": [
    "vistas_df.columns=['idaviso','timestamp','idpostulante']"
   ]
  },
  {
   "cell_type": "code",
   "execution_count": 343,
   "metadata": {},
   "outputs": [
    {
     "data": {
      "text/html": [
       "<div>\n",
       "<style scoped>\n",
       "    .dataframe tbody tr th:only-of-type {\n",
       "        vertical-align: middle;\n",
       "    }\n",
       "\n",
       "    .dataframe tbody tr th {\n",
       "        vertical-align: top;\n",
       "    }\n",
       "\n",
       "    .dataframe thead th {\n",
       "        text-align: right;\n",
       "    }\n",
       "</style>\n",
       "<table border=\"1\" class=\"dataframe\">\n",
       "  <thead>\n",
       "    <tr style=\"text-align: right;\">\n",
       "      <th></th>\n",
       "      <th>idaviso</th>\n",
       "      <th>idpostulante</th>\n",
       "      <th>fechapostulacion</th>\n",
       "    </tr>\n",
       "  </thead>\n",
       "  <tbody>\n",
       "    <tr>\n",
       "      <th>0</th>\n",
       "      <td>1112248724</td>\n",
       "      <td>NjlD</td>\n",
       "      <td>2018-01-19 07:39:16</td>\n",
       "    </tr>\n",
       "    <tr>\n",
       "      <th>1</th>\n",
       "      <td>1112286523</td>\n",
       "      <td>ZaO5</td>\n",
       "      <td>2018-01-24 15:07:39</td>\n",
       "    </tr>\n",
       "    <tr>\n",
       "      <th>2</th>\n",
       "      <td>1112272060</td>\n",
       "      <td>ZaO5</td>\n",
       "      <td>2018-01-24 15:20:10</td>\n",
       "    </tr>\n",
       "    <tr>\n",
       "      <th>3</th>\n",
       "      <td>1112288401</td>\n",
       "      <td>ZaO5</td>\n",
       "      <td>2018-01-26 08:37:04</td>\n",
       "    </tr>\n",
       "    <tr>\n",
       "      <th>4</th>\n",
       "      <td>1112300563</td>\n",
       "      <td>ZaO5</td>\n",
       "      <td>2018-01-30 13:35:48</td>\n",
       "    </tr>\n",
       "  </tbody>\n",
       "</table>\n",
       "</div>"
      ],
      "text/plain": [
       "      idaviso idpostulante     fechapostulacion\n",
       "0  1112248724         NjlD  2018-01-19 07:39:16\n",
       "1  1112286523         ZaO5  2018-01-24 15:07:39\n",
       "2  1112272060         ZaO5  2018-01-24 15:20:10\n",
       "3  1112288401         ZaO5  2018-01-26 08:37:04\n",
       "4  1112300563         ZaO5  2018-01-30 13:35:48"
      ]
     },
     "execution_count": 343,
     "metadata": {},
     "output_type": "execute_result"
    }
   ],
   "source": [
    "postulaciones_df.head()"
   ]
  },
  {
   "cell_type": "code",
   "execution_count": 344,
   "metadata": {},
   "outputs": [
    {
     "data": {
      "text/html": [
       "<div>\n",
       "<style scoped>\n",
       "    .dataframe tbody tr th:only-of-type {\n",
       "        vertical-align: middle;\n",
       "    }\n",
       "\n",
       "    .dataframe tbody tr th {\n",
       "        vertical-align: top;\n",
       "    }\n",
       "\n",
       "    .dataframe thead th {\n",
       "        text-align: right;\n",
       "    }\n",
       "</style>\n",
       "<table border=\"1\" class=\"dataframe\">\n",
       "  <thead>\n",
       "    <tr style=\"text-align: right;\">\n",
       "      <th></th>\n",
       "      <th>idaviso</th>\n",
       "      <th>idpostulante</th>\n",
       "      <th>fechapostulacion</th>\n",
       "      <th>timestamp</th>\n",
       "    </tr>\n",
       "  </thead>\n",
       "  <tbody>\n",
       "    <tr>\n",
       "      <th>0</th>\n",
       "      <td>1112364763</td>\n",
       "      <td>ZaO5</td>\n",
       "      <td>2018-02-27 20:54:50</td>\n",
       "      <td>2018-02-27T20:53:53.668-0500</td>\n",
       "    </tr>\n",
       "    <tr>\n",
       "      <th>1</th>\n",
       "      <td>1112383420</td>\n",
       "      <td>ZaO5</td>\n",
       "      <td>2018-03-07 08:16:46</td>\n",
       "      <td>2018-04-02T18:38:56.797-0400</td>\n",
       "    </tr>\n",
       "    <tr>\n",
       "      <th>2</th>\n",
       "      <td>1112383420</td>\n",
       "      <td>ZaO5</td>\n",
       "      <td>2018-03-07 08:16:46</td>\n",
       "      <td>2018-04-02T18:39:20.453-0400</td>\n",
       "    </tr>\n",
       "    <tr>\n",
       "      <th>3</th>\n",
       "      <td>1112397910</td>\n",
       "      <td>ZaO5</td>\n",
       "      <td>2018-03-18 15:35:40</td>\n",
       "      <td>2018-04-02T18:42:17.247-0400</td>\n",
       "    </tr>\n",
       "    <tr>\n",
       "      <th>4</th>\n",
       "      <td>1112397910</td>\n",
       "      <td>ZaO5</td>\n",
       "      <td>2018-03-18 15:35:40</td>\n",
       "      <td>2018-04-02T18:44:18.643-0400</td>\n",
       "    </tr>\n",
       "  </tbody>\n",
       "</table>\n",
       "</div>"
      ],
      "text/plain": [
       "      idaviso idpostulante     fechapostulacion                     timestamp\n",
       "0  1112364763         ZaO5  2018-02-27 20:54:50  2018-02-27T20:53:53.668-0500\n",
       "1  1112383420         ZaO5  2018-03-07 08:16:46  2018-04-02T18:38:56.797-0400\n",
       "2  1112383420         ZaO5  2018-03-07 08:16:46  2018-04-02T18:39:20.453-0400\n",
       "3  1112397910         ZaO5  2018-03-18 15:35:40  2018-04-02T18:42:17.247-0400\n",
       "4  1112397910         ZaO5  2018-03-18 15:35:40  2018-04-02T18:44:18.643-0400"
      ]
     },
     "execution_count": 344,
     "metadata": {},
     "output_type": "execute_result"
    }
   ],
   "source": [
    "#Efectivamente una \"vista\" no implica una no postulacion.\n",
    "postulaciones_df.merge(vistas_df,on=['idaviso','idpostulante'],how='inner').head()"
   ]
  },
  {
   "cell_type": "markdown",
   "metadata": {},
   "source": [
    "# Test Final DF"
   ]
  },
  {
   "cell_type": "code",
   "execution_count": null,
   "metadata": {},
   "outputs": [],
   "source": [
    "test_final_df = pd.read_csv('test_final_100k.csv')"
   ]
  },
  {
   "cell_type": "code",
   "execution_count": 30,
   "metadata": {},
   "outputs": [
    {
     "data": {
      "text/html": [
       "<div>\n",
       "<style scoped>\n",
       "    .dataframe tbody tr th:only-of-type {\n",
       "        vertical-align: middle;\n",
       "    }\n",
       "\n",
       "    .dataframe tbody tr th {\n",
       "        vertical-align: top;\n",
       "    }\n",
       "\n",
       "    .dataframe thead th {\n",
       "        text-align: right;\n",
       "    }\n",
       "</style>\n",
       "<table border=\"1\" class=\"dataframe\">\n",
       "  <thead>\n",
       "    <tr style=\"text-align: right;\">\n",
       "      <th></th>\n",
       "      <th>id</th>\n",
       "      <th>idaviso</th>\n",
       "      <th>idpostulante</th>\n",
       "    </tr>\n",
       "  </thead>\n",
       "  <tbody>\n",
       "    <tr>\n",
       "      <th>0</th>\n",
       "      <td>0</td>\n",
       "      <td>739260</td>\n",
       "      <td>6M9ZQR</td>\n",
       "    </tr>\n",
       "    <tr>\n",
       "      <th>1</th>\n",
       "      <td>1</td>\n",
       "      <td>739260</td>\n",
       "      <td>6v1xdL</td>\n",
       "    </tr>\n",
       "    <tr>\n",
       "      <th>2</th>\n",
       "      <td>2</td>\n",
       "      <td>739260</td>\n",
       "      <td>ezRKm9</td>\n",
       "    </tr>\n",
       "    <tr>\n",
       "      <th>3</th>\n",
       "      <td>3</td>\n",
       "      <td>758580</td>\n",
       "      <td>1Q35ej</td>\n",
       "    </tr>\n",
       "    <tr>\n",
       "      <th>4</th>\n",
       "      <td>4</td>\n",
       "      <td>758580</td>\n",
       "      <td>EAN4J6</td>\n",
       "    </tr>\n",
       "  </tbody>\n",
       "</table>\n",
       "</div>"
      ],
      "text/plain": [
       "   id  idaviso idpostulante\n",
       "0   0   739260       6M9ZQR\n",
       "1   1   739260       6v1xdL\n",
       "2   2   739260       ezRKm9\n",
       "3   3   758580       1Q35ej\n",
       "4   4   758580       EAN4J6"
      ]
     },
     "execution_count": 30,
     "metadata": {},
     "output_type": "execute_result"
    }
   ],
   "source": [
    "test_final_df.head()"
   ]
  },
  {
   "cell_type": "code",
   "execution_count": 31,
   "metadata": {},
   "outputs": [
    {
     "data": {
      "text/plain": [
       "(64646,)"
      ]
     },
     "execution_count": 31,
     "metadata": {},
     "output_type": "execute_result"
    }
   ],
   "source": [
    "test_final_df['idpostulante'].unique().shape"
   ]
  },
  {
   "cell_type": "code",
   "execution_count": 32,
   "metadata": {
    "scrolled": true
   },
   "outputs": [
    {
     "data": {
      "text/plain": [
       "(44930, 7)"
      ]
     },
     "execution_count": 32,
     "metadata": {},
     "output_type": "execute_result"
    }
   ],
   "source": [
    "#Los postulantes que tengo informacion que aparecen en el test final.\n",
    "#Entonces hay casi 20mil postulantes sobre los cuales no tengo informacion.\n",
    "test_final_df.drop_duplicates('idpostulante').merge(postulantes_filtrados_df,on='idpostulante',how='inner').shape"
   ]
  },
  {
   "cell_type": "markdown",
   "metadata": {},
   "source": [
    "# KNN"
   ]
  },
  {
   "cell_type": "code",
   "execution_count": 159,
   "metadata": {},
   "outputs": [],
   "source": [
    "knn = KNeighborsClassifier(n_neighbors= 5)"
   ]
  },
  {
   "cell_type": "code",
   "execution_count": 160,
   "metadata": {},
   "outputs": [],
   "source": [
    "#knn.fit(df_1, y)"
   ]
  },
  {
   "cell_type": "code",
   "execution_count": 161,
   "metadata": {},
   "outputs": [
    {
     "data": {
      "text/html": [
       "<div>\n",
       "<style scoped>\n",
       "    .dataframe tbody tr th:only-of-type {\n",
       "        vertical-align: middle;\n",
       "    }\n",
       "\n",
       "    .dataframe tbody tr th {\n",
       "        vertical-align: top;\n",
       "    }\n",
       "\n",
       "    .dataframe thead th {\n",
       "        text-align: right;\n",
       "    }\n",
       "</style>\n",
       "<table border=\"1\" class=\"dataframe\">\n",
       "  <thead>\n",
       "    <tr style=\"text-align: right;\">\n",
       "      <th></th>\n",
       "      <th>id</th>\n",
       "      <th>idaviso</th>\n",
       "      <th>idpostulante</th>\n",
       "    </tr>\n",
       "  </thead>\n",
       "  <tbody>\n",
       "    <tr>\n",
       "      <th>0</th>\n",
       "      <td>0</td>\n",
       "      <td>739260</td>\n",
       "      <td>6M9ZQR</td>\n",
       "    </tr>\n",
       "    <tr>\n",
       "      <th>1</th>\n",
       "      <td>1</td>\n",
       "      <td>739260</td>\n",
       "      <td>6v1xdL</td>\n",
       "    </tr>\n",
       "    <tr>\n",
       "      <th>2</th>\n",
       "      <td>2</td>\n",
       "      <td>739260</td>\n",
       "      <td>ezRKm9</td>\n",
       "    </tr>\n",
       "    <tr>\n",
       "      <th>3</th>\n",
       "      <td>3</td>\n",
       "      <td>758580</td>\n",
       "      <td>1Q35ej</td>\n",
       "    </tr>\n",
       "    <tr>\n",
       "      <th>4</th>\n",
       "      <td>4</td>\n",
       "      <td>758580</td>\n",
       "      <td>EAN4J6</td>\n",
       "    </tr>\n",
       "  </tbody>\n",
       "</table>\n",
       "</div>"
      ],
      "text/plain": [
       "   id  idaviso idpostulante\n",
       "0   0   739260       6M9ZQR\n",
       "1   1   739260       6v1xdL\n",
       "2   2   739260       ezRKm9\n",
       "3   3   758580       1Q35ej\n",
       "4   4   758580       EAN4J6"
      ]
     },
     "execution_count": 161,
     "metadata": {},
     "output_type": "execute_result"
    }
   ],
   "source": [
    "test_final_df.head()"
   ]
  },
  {
   "cell_type": "code",
   "execution_count": 79,
   "metadata": {},
   "outputs": [],
   "source": [
    "\n",
    "#df_1.drop(columns=['idpostulante','idaviso'],axis=1,inplace=True)\n",
    "\n",
    "#y = df_1['postulacion']\n",
    "#df_1.drop(columns='postulacion',axis=1,inplace=True)\n",
    "#df_1.head()\n",
    "\n",
    "\n",
    "#test_final_df['sepostulo'] = 1\n",
    "#test_final_df.drop(columns=['idaviso','idpostulante'],axis=1,inplace=True)\n",
    "#test_final_df.head()"
   ]
  }
 ],
 "metadata": {
  "kernelspec": {
   "display_name": "Python 3",
   "language": "python",
   "name": "python3"
  },
  "language_info": {
   "codemirror_mode": {
    "name": "ipython",
    "version": 3
   },
   "file_extension": ".py",
   "mimetype": "text/x-python",
   "name": "python",
   "nbconvert_exporter": "python",
   "pygments_lexer": "ipython3",
   "version": "3.6.4"
  }
 },
 "nbformat": 4,
 "nbformat_minor": 2
}
